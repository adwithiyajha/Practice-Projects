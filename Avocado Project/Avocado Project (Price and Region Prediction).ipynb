{
 "cells": [
  {
   "cell_type": "markdown",
   "id": "2edd44b6",
   "metadata": {},
   "source": [
    "ACOCADO PROJECT - PRICE AND REGION PPREDICTION"
   ]
  },
  {
   "cell_type": "markdown",
   "id": "9b94beea",
   "metadata": {},
   "source": [
    "Since, this is both a Classification as well as Regression project, we import libraries accordingly."
   ]
  },
  {
   "cell_type": "code",
   "execution_count": 1,
   "id": "9b18cb8b",
   "metadata": {},
   "outputs": [],
   "source": [
    "import pandas as pd\n",
    "import numpy as np\n",
    "from sklearn.preprocessing import StandardScaler\n",
    "from sklearn.model_selection import train_test_split, GridSearchCV\n",
    "from sklearn.linear_model import LinearRegression\n",
    "import matplotlib.pyplot as plt\n",
    "import seaborn as sns\n",
    "import pickle\n",
    "from sklearn.metrics import r2_score\n",
    "from sklearn import metrics\n",
    "from sklearn.model_selection import cross_val_score\n",
    "from sklearn.metrics import roc_curve, roc_auc_score, plot_roc_curve\n",
    "from sklearn.ensemble import RandomForestRegressor\n",
    "from sklearn.tree import DecisionTreeRegressor\n",
    "from sklearn.neighbors import KNeighborsRegressor\n",
    "from sklearn.metrics import accuracy_score, confusion_matrix, classification_report, roc_curve, roc_auc_score, plot_roc_curve\n",
    "from sklearn.linear_model import LogisticRegression\n",
    "from sklearn.ensemble import RandomForestClassifier\n",
    "from sklearn.tree import DecisionTreeClassifier\n",
    "from sklearn.neighbors import KNeighborsClassifier\n",
    "import xgboost as xgb\n",
    "from xgboost import XGBRegressor\n",
    "from xgboost import XGBClassifier\n",
    "import warnings\n",
    "warnings.filterwarnings('ignore')"
   ]
  },
  {
   "cell_type": "markdown",
   "id": "f1de634d",
   "metadata": {},
   "source": [
    "Import Dataset from GitHub"
   ]
  },
  {
   "cell_type": "code",
   "execution_count": 2,
   "id": "186a1f61",
   "metadata": {},
   "outputs": [
    {
     "data": {
      "text/html": [
       "<div>\n",
       "<style scoped>\n",
       "    .dataframe tbody tr th:only-of-type {\n",
       "        vertical-align: middle;\n",
       "    }\n",
       "\n",
       "    .dataframe tbody tr th {\n",
       "        vertical-align: top;\n",
       "    }\n",
       "\n",
       "    .dataframe thead th {\n",
       "        text-align: right;\n",
       "    }\n",
       "</style>\n",
       "<table border=\"1\" class=\"dataframe\">\n",
       "  <thead>\n",
       "    <tr style=\"text-align: right;\">\n",
       "      <th></th>\n",
       "      <th>Unnamed: 0</th>\n",
       "      <th>Date</th>\n",
       "      <th>AveragePrice</th>\n",
       "      <th>Total Volume</th>\n",
       "      <th>4046</th>\n",
       "      <th>4225</th>\n",
       "      <th>4770</th>\n",
       "      <th>Total Bags</th>\n",
       "      <th>Small Bags</th>\n",
       "      <th>Large Bags</th>\n",
       "      <th>XLarge Bags</th>\n",
       "      <th>type</th>\n",
       "      <th>year</th>\n",
       "      <th>region</th>\n",
       "    </tr>\n",
       "  </thead>\n",
       "  <tbody>\n",
       "    <tr>\n",
       "      <th>0</th>\n",
       "      <td>0</td>\n",
       "      <td>2015-12-27</td>\n",
       "      <td>1.33</td>\n",
       "      <td>64236.62</td>\n",
       "      <td>1036.74</td>\n",
       "      <td>54454.85</td>\n",
       "      <td>48.16</td>\n",
       "      <td>8696.87</td>\n",
       "      <td>8603.62</td>\n",
       "      <td>93.25</td>\n",
       "      <td>0.0</td>\n",
       "      <td>conventional</td>\n",
       "      <td>2015</td>\n",
       "      <td>Albany</td>\n",
       "    </tr>\n",
       "    <tr>\n",
       "      <th>1</th>\n",
       "      <td>1</td>\n",
       "      <td>2015-12-20</td>\n",
       "      <td>1.35</td>\n",
       "      <td>54876.98</td>\n",
       "      <td>674.28</td>\n",
       "      <td>44638.81</td>\n",
       "      <td>58.33</td>\n",
       "      <td>9505.56</td>\n",
       "      <td>9408.07</td>\n",
       "      <td>97.49</td>\n",
       "      <td>0.0</td>\n",
       "      <td>conventional</td>\n",
       "      <td>2015</td>\n",
       "      <td>Albany</td>\n",
       "    </tr>\n",
       "    <tr>\n",
       "      <th>2</th>\n",
       "      <td>2</td>\n",
       "      <td>2015-12-13</td>\n",
       "      <td>0.93</td>\n",
       "      <td>118220.22</td>\n",
       "      <td>794.70</td>\n",
       "      <td>109149.67</td>\n",
       "      <td>130.50</td>\n",
       "      <td>8145.35</td>\n",
       "      <td>8042.21</td>\n",
       "      <td>103.14</td>\n",
       "      <td>0.0</td>\n",
       "      <td>conventional</td>\n",
       "      <td>2015</td>\n",
       "      <td>Albany</td>\n",
       "    </tr>\n",
       "    <tr>\n",
       "      <th>3</th>\n",
       "      <td>3</td>\n",
       "      <td>2015-12-06</td>\n",
       "      <td>1.08</td>\n",
       "      <td>78992.15</td>\n",
       "      <td>1132.00</td>\n",
       "      <td>71976.41</td>\n",
       "      <td>72.58</td>\n",
       "      <td>5811.16</td>\n",
       "      <td>5677.40</td>\n",
       "      <td>133.76</td>\n",
       "      <td>0.0</td>\n",
       "      <td>conventional</td>\n",
       "      <td>2015</td>\n",
       "      <td>Albany</td>\n",
       "    </tr>\n",
       "    <tr>\n",
       "      <th>4</th>\n",
       "      <td>4</td>\n",
       "      <td>2015-11-29</td>\n",
       "      <td>1.28</td>\n",
       "      <td>51039.60</td>\n",
       "      <td>941.48</td>\n",
       "      <td>43838.39</td>\n",
       "      <td>75.78</td>\n",
       "      <td>6183.95</td>\n",
       "      <td>5986.26</td>\n",
       "      <td>197.69</td>\n",
       "      <td>0.0</td>\n",
       "      <td>conventional</td>\n",
       "      <td>2015</td>\n",
       "      <td>Albany</td>\n",
       "    </tr>\n",
       "    <tr>\n",
       "      <th>...</th>\n",
       "      <td>...</td>\n",
       "      <td>...</td>\n",
       "      <td>...</td>\n",
       "      <td>...</td>\n",
       "      <td>...</td>\n",
       "      <td>...</td>\n",
       "      <td>...</td>\n",
       "      <td>...</td>\n",
       "      <td>...</td>\n",
       "      <td>...</td>\n",
       "      <td>...</td>\n",
       "      <td>...</td>\n",
       "      <td>...</td>\n",
       "      <td>...</td>\n",
       "    </tr>\n",
       "    <tr>\n",
       "      <th>18244</th>\n",
       "      <td>7</td>\n",
       "      <td>2018-02-04</td>\n",
       "      <td>1.63</td>\n",
       "      <td>17074.83</td>\n",
       "      <td>2046.96</td>\n",
       "      <td>1529.20</td>\n",
       "      <td>0.00</td>\n",
       "      <td>13498.67</td>\n",
       "      <td>13066.82</td>\n",
       "      <td>431.85</td>\n",
       "      <td>0.0</td>\n",
       "      <td>organic</td>\n",
       "      <td>2018</td>\n",
       "      <td>WestTexNewMexico</td>\n",
       "    </tr>\n",
       "    <tr>\n",
       "      <th>18245</th>\n",
       "      <td>8</td>\n",
       "      <td>2018-01-28</td>\n",
       "      <td>1.71</td>\n",
       "      <td>13888.04</td>\n",
       "      <td>1191.70</td>\n",
       "      <td>3431.50</td>\n",
       "      <td>0.00</td>\n",
       "      <td>9264.84</td>\n",
       "      <td>8940.04</td>\n",
       "      <td>324.80</td>\n",
       "      <td>0.0</td>\n",
       "      <td>organic</td>\n",
       "      <td>2018</td>\n",
       "      <td>WestTexNewMexico</td>\n",
       "    </tr>\n",
       "    <tr>\n",
       "      <th>18246</th>\n",
       "      <td>9</td>\n",
       "      <td>2018-01-21</td>\n",
       "      <td>1.87</td>\n",
       "      <td>13766.76</td>\n",
       "      <td>1191.92</td>\n",
       "      <td>2452.79</td>\n",
       "      <td>727.94</td>\n",
       "      <td>9394.11</td>\n",
       "      <td>9351.80</td>\n",
       "      <td>42.31</td>\n",
       "      <td>0.0</td>\n",
       "      <td>organic</td>\n",
       "      <td>2018</td>\n",
       "      <td>WestTexNewMexico</td>\n",
       "    </tr>\n",
       "    <tr>\n",
       "      <th>18247</th>\n",
       "      <td>10</td>\n",
       "      <td>2018-01-14</td>\n",
       "      <td>1.93</td>\n",
       "      <td>16205.22</td>\n",
       "      <td>1527.63</td>\n",
       "      <td>2981.04</td>\n",
       "      <td>727.01</td>\n",
       "      <td>10969.54</td>\n",
       "      <td>10919.54</td>\n",
       "      <td>50.00</td>\n",
       "      <td>0.0</td>\n",
       "      <td>organic</td>\n",
       "      <td>2018</td>\n",
       "      <td>WestTexNewMexico</td>\n",
       "    </tr>\n",
       "    <tr>\n",
       "      <th>18248</th>\n",
       "      <td>11</td>\n",
       "      <td>2018-01-07</td>\n",
       "      <td>1.62</td>\n",
       "      <td>17489.58</td>\n",
       "      <td>2894.77</td>\n",
       "      <td>2356.13</td>\n",
       "      <td>224.53</td>\n",
       "      <td>12014.15</td>\n",
       "      <td>11988.14</td>\n",
       "      <td>26.01</td>\n",
       "      <td>0.0</td>\n",
       "      <td>organic</td>\n",
       "      <td>2018</td>\n",
       "      <td>WestTexNewMexico</td>\n",
       "    </tr>\n",
       "  </tbody>\n",
       "</table>\n",
       "<p>18249 rows × 14 columns</p>\n",
       "</div>"
      ],
      "text/plain": [
       "       Unnamed: 0        Date  AveragePrice  Total Volume     4046       4225  \\\n",
       "0               0  2015-12-27          1.33      64236.62  1036.74   54454.85   \n",
       "1               1  2015-12-20          1.35      54876.98   674.28   44638.81   \n",
       "2               2  2015-12-13          0.93     118220.22   794.70  109149.67   \n",
       "3               3  2015-12-06          1.08      78992.15  1132.00   71976.41   \n",
       "4               4  2015-11-29          1.28      51039.60   941.48   43838.39   \n",
       "...           ...         ...           ...           ...      ...        ...   \n",
       "18244           7  2018-02-04          1.63      17074.83  2046.96    1529.20   \n",
       "18245           8  2018-01-28          1.71      13888.04  1191.70    3431.50   \n",
       "18246           9  2018-01-21          1.87      13766.76  1191.92    2452.79   \n",
       "18247          10  2018-01-14          1.93      16205.22  1527.63    2981.04   \n",
       "18248          11  2018-01-07          1.62      17489.58  2894.77    2356.13   \n",
       "\n",
       "         4770  Total Bags  Small Bags  Large Bags  XLarge Bags          type  \\\n",
       "0       48.16     8696.87     8603.62       93.25          0.0  conventional   \n",
       "1       58.33     9505.56     9408.07       97.49          0.0  conventional   \n",
       "2      130.50     8145.35     8042.21      103.14          0.0  conventional   \n",
       "3       72.58     5811.16     5677.40      133.76          0.0  conventional   \n",
       "4       75.78     6183.95     5986.26      197.69          0.0  conventional   \n",
       "...       ...         ...         ...         ...          ...           ...   \n",
       "18244    0.00    13498.67    13066.82      431.85          0.0       organic   \n",
       "18245    0.00     9264.84     8940.04      324.80          0.0       organic   \n",
       "18246  727.94     9394.11     9351.80       42.31          0.0       organic   \n",
       "18247  727.01    10969.54    10919.54       50.00          0.0       organic   \n",
       "18248  224.53    12014.15    11988.14       26.01          0.0       organic   \n",
       "\n",
       "       year            region  \n",
       "0      2015            Albany  \n",
       "1      2015            Albany  \n",
       "2      2015            Albany  \n",
       "3      2015            Albany  \n",
       "4      2015            Albany  \n",
       "...     ...               ...  \n",
       "18244  2018  WestTexNewMexico  \n",
       "18245  2018  WestTexNewMexico  \n",
       "18246  2018  WestTexNewMexico  \n",
       "18247  2018  WestTexNewMexico  \n",
       "18248  2018  WestTexNewMexico  \n",
       "\n",
       "[18249 rows x 14 columns]"
      ]
     },
     "execution_count": 2,
     "metadata": {},
     "output_type": "execute_result"
    }
   ],
   "source": [
    "df = pd.read_csv(\"C:\\\\Users\\\\adwit\\\\Downloads\\\\avocado.csv\\\\avocado.csv\")\n",
    "df"
   ]
  },
  {
   "cell_type": "markdown",
   "id": "684079ab",
   "metadata": {},
   "source": [
    "Now, we can begin analysing our dataset:\n",
    "\n",
    "- Check shape\n",
    "- General Info\n",
    "- Stats\n",
    "- Null Values\n",
    "- Duplicates"
   ]
  },
  {
   "cell_type": "code",
   "execution_count": 3,
   "id": "0a219130",
   "metadata": {},
   "outputs": [
    {
     "data": {
      "text/plain": [
       "(18249, 14)"
      ]
     },
     "execution_count": 3,
     "metadata": {},
     "output_type": "execute_result"
    }
   ],
   "source": [
    "df.shape"
   ]
  },
  {
   "cell_type": "code",
   "execution_count": 4,
   "id": "6995a44e",
   "metadata": {},
   "outputs": [
    {
     "name": "stdout",
     "output_type": "stream",
     "text": [
      "<class 'pandas.core.frame.DataFrame'>\n",
      "RangeIndex: 18249 entries, 0 to 18248\n",
      "Data columns (total 14 columns):\n",
      " #   Column        Non-Null Count  Dtype  \n",
      "---  ------        --------------  -----  \n",
      " 0   Unnamed: 0    18249 non-null  int64  \n",
      " 1   Date          18249 non-null  object \n",
      " 2   AveragePrice  18249 non-null  float64\n",
      " 3   Total Volume  18249 non-null  float64\n",
      " 4   4046          18249 non-null  float64\n",
      " 5   4225          18249 non-null  float64\n",
      " 6   4770          18249 non-null  float64\n",
      " 7   Total Bags    18249 non-null  float64\n",
      " 8   Small Bags    18249 non-null  float64\n",
      " 9   Large Bags    18249 non-null  float64\n",
      " 10  XLarge Bags   18249 non-null  float64\n",
      " 11  type          18249 non-null  object \n",
      " 12  year          18249 non-null  int64  \n",
      " 13  region        18249 non-null  object \n",
      "dtypes: float64(9), int64(2), object(3)\n",
      "memory usage: 1.9+ MB\n"
     ]
    }
   ],
   "source": [
    "df.info()"
   ]
  },
  {
   "cell_type": "code",
   "execution_count": 5,
   "id": "e8a09ec2",
   "metadata": {},
   "outputs": [
    {
     "data": {
      "text/plain": [
       "Unnamed: 0      0\n",
       "Date            0\n",
       "AveragePrice    0\n",
       "Total Volume    0\n",
       "4046            0\n",
       "4225            0\n",
       "4770            0\n",
       "Total Bags      0\n",
       "Small Bags      0\n",
       "Large Bags      0\n",
       "XLarge Bags     0\n",
       "type            0\n",
       "year            0\n",
       "region          0\n",
       "dtype: int64"
      ]
     },
     "execution_count": 5,
     "metadata": {},
     "output_type": "execute_result"
    }
   ],
   "source": [
    "df.isnull().sum()"
   ]
  },
  {
   "cell_type": "markdown",
   "id": "32bccf96",
   "metadata": {},
   "source": [
    "No Null Columns"
   ]
  },
  {
   "cell_type": "code",
   "execution_count": 6,
   "id": "58f265f0",
   "metadata": {},
   "outputs": [
    {
     "data": {
      "text/html": [
       "<div>\n",
       "<style scoped>\n",
       "    .dataframe tbody tr th:only-of-type {\n",
       "        vertical-align: middle;\n",
       "    }\n",
       "\n",
       "    .dataframe tbody tr th {\n",
       "        vertical-align: top;\n",
       "    }\n",
       "\n",
       "    .dataframe thead th {\n",
       "        text-align: right;\n",
       "    }\n",
       "</style>\n",
       "<table border=\"1\" class=\"dataframe\">\n",
       "  <thead>\n",
       "    <tr style=\"text-align: right;\">\n",
       "      <th></th>\n",
       "      <th>Unnamed: 0</th>\n",
       "      <th>AveragePrice</th>\n",
       "      <th>Total Volume</th>\n",
       "      <th>4046</th>\n",
       "      <th>4225</th>\n",
       "      <th>4770</th>\n",
       "      <th>Total Bags</th>\n",
       "      <th>Small Bags</th>\n",
       "      <th>Large Bags</th>\n",
       "      <th>XLarge Bags</th>\n",
       "      <th>year</th>\n",
       "    </tr>\n",
       "  </thead>\n",
       "  <tbody>\n",
       "    <tr>\n",
       "      <th>count</th>\n",
       "      <td>18249.000000</td>\n",
       "      <td>18249.000000</td>\n",
       "      <td>1.824900e+04</td>\n",
       "      <td>1.824900e+04</td>\n",
       "      <td>1.824900e+04</td>\n",
       "      <td>1.824900e+04</td>\n",
       "      <td>1.824900e+04</td>\n",
       "      <td>1.824900e+04</td>\n",
       "      <td>1.824900e+04</td>\n",
       "      <td>18249.000000</td>\n",
       "      <td>18249.000000</td>\n",
       "    </tr>\n",
       "    <tr>\n",
       "      <th>mean</th>\n",
       "      <td>24.232232</td>\n",
       "      <td>1.405978</td>\n",
       "      <td>8.506440e+05</td>\n",
       "      <td>2.930084e+05</td>\n",
       "      <td>2.951546e+05</td>\n",
       "      <td>2.283974e+04</td>\n",
       "      <td>2.396392e+05</td>\n",
       "      <td>1.821947e+05</td>\n",
       "      <td>5.433809e+04</td>\n",
       "      <td>3106.426507</td>\n",
       "      <td>2016.147899</td>\n",
       "    </tr>\n",
       "    <tr>\n",
       "      <th>std</th>\n",
       "      <td>15.481045</td>\n",
       "      <td>0.402677</td>\n",
       "      <td>3.453545e+06</td>\n",
       "      <td>1.264989e+06</td>\n",
       "      <td>1.204120e+06</td>\n",
       "      <td>1.074641e+05</td>\n",
       "      <td>9.862424e+05</td>\n",
       "      <td>7.461785e+05</td>\n",
       "      <td>2.439660e+05</td>\n",
       "      <td>17692.894652</td>\n",
       "      <td>0.939938</td>\n",
       "    </tr>\n",
       "    <tr>\n",
       "      <th>min</th>\n",
       "      <td>0.000000</td>\n",
       "      <td>0.440000</td>\n",
       "      <td>8.456000e+01</td>\n",
       "      <td>0.000000e+00</td>\n",
       "      <td>0.000000e+00</td>\n",
       "      <td>0.000000e+00</td>\n",
       "      <td>0.000000e+00</td>\n",
       "      <td>0.000000e+00</td>\n",
       "      <td>0.000000e+00</td>\n",
       "      <td>0.000000</td>\n",
       "      <td>2015.000000</td>\n",
       "    </tr>\n",
       "    <tr>\n",
       "      <th>25%</th>\n",
       "      <td>10.000000</td>\n",
       "      <td>1.100000</td>\n",
       "      <td>1.083858e+04</td>\n",
       "      <td>8.540700e+02</td>\n",
       "      <td>3.008780e+03</td>\n",
       "      <td>0.000000e+00</td>\n",
       "      <td>5.088640e+03</td>\n",
       "      <td>2.849420e+03</td>\n",
       "      <td>1.274700e+02</td>\n",
       "      <td>0.000000</td>\n",
       "      <td>2015.000000</td>\n",
       "    </tr>\n",
       "    <tr>\n",
       "      <th>50%</th>\n",
       "      <td>24.000000</td>\n",
       "      <td>1.370000</td>\n",
       "      <td>1.073768e+05</td>\n",
       "      <td>8.645300e+03</td>\n",
       "      <td>2.906102e+04</td>\n",
       "      <td>1.849900e+02</td>\n",
       "      <td>3.974383e+04</td>\n",
       "      <td>2.636282e+04</td>\n",
       "      <td>2.647710e+03</td>\n",
       "      <td>0.000000</td>\n",
       "      <td>2016.000000</td>\n",
       "    </tr>\n",
       "    <tr>\n",
       "      <th>75%</th>\n",
       "      <td>38.000000</td>\n",
       "      <td>1.660000</td>\n",
       "      <td>4.329623e+05</td>\n",
       "      <td>1.110202e+05</td>\n",
       "      <td>1.502069e+05</td>\n",
       "      <td>6.243420e+03</td>\n",
       "      <td>1.107834e+05</td>\n",
       "      <td>8.333767e+04</td>\n",
       "      <td>2.202925e+04</td>\n",
       "      <td>132.500000</td>\n",
       "      <td>2017.000000</td>\n",
       "    </tr>\n",
       "    <tr>\n",
       "      <th>max</th>\n",
       "      <td>52.000000</td>\n",
       "      <td>3.250000</td>\n",
       "      <td>6.250565e+07</td>\n",
       "      <td>2.274362e+07</td>\n",
       "      <td>2.047057e+07</td>\n",
       "      <td>2.546439e+06</td>\n",
       "      <td>1.937313e+07</td>\n",
       "      <td>1.338459e+07</td>\n",
       "      <td>5.719097e+06</td>\n",
       "      <td>551693.650000</td>\n",
       "      <td>2018.000000</td>\n",
       "    </tr>\n",
       "  </tbody>\n",
       "</table>\n",
       "</div>"
      ],
      "text/plain": [
       "         Unnamed: 0  AveragePrice  Total Volume          4046          4225  \\\n",
       "count  18249.000000  18249.000000  1.824900e+04  1.824900e+04  1.824900e+04   \n",
       "mean      24.232232      1.405978  8.506440e+05  2.930084e+05  2.951546e+05   \n",
       "std       15.481045      0.402677  3.453545e+06  1.264989e+06  1.204120e+06   \n",
       "min        0.000000      0.440000  8.456000e+01  0.000000e+00  0.000000e+00   \n",
       "25%       10.000000      1.100000  1.083858e+04  8.540700e+02  3.008780e+03   \n",
       "50%       24.000000      1.370000  1.073768e+05  8.645300e+03  2.906102e+04   \n",
       "75%       38.000000      1.660000  4.329623e+05  1.110202e+05  1.502069e+05   \n",
       "max       52.000000      3.250000  6.250565e+07  2.274362e+07  2.047057e+07   \n",
       "\n",
       "               4770    Total Bags    Small Bags    Large Bags    XLarge Bags  \\\n",
       "count  1.824900e+04  1.824900e+04  1.824900e+04  1.824900e+04   18249.000000   \n",
       "mean   2.283974e+04  2.396392e+05  1.821947e+05  5.433809e+04    3106.426507   \n",
       "std    1.074641e+05  9.862424e+05  7.461785e+05  2.439660e+05   17692.894652   \n",
       "min    0.000000e+00  0.000000e+00  0.000000e+00  0.000000e+00       0.000000   \n",
       "25%    0.000000e+00  5.088640e+03  2.849420e+03  1.274700e+02       0.000000   \n",
       "50%    1.849900e+02  3.974383e+04  2.636282e+04  2.647710e+03       0.000000   \n",
       "75%    6.243420e+03  1.107834e+05  8.333767e+04  2.202925e+04     132.500000   \n",
       "max    2.546439e+06  1.937313e+07  1.338459e+07  5.719097e+06  551693.650000   \n",
       "\n",
       "               year  \n",
       "count  18249.000000  \n",
       "mean    2016.147899  \n",
       "std        0.939938  \n",
       "min     2015.000000  \n",
       "25%     2015.000000  \n",
       "50%     2016.000000  \n",
       "75%     2017.000000  \n",
       "max     2018.000000  "
      ]
     },
     "execution_count": 6,
     "metadata": {},
     "output_type": "execute_result"
    }
   ],
   "source": [
    "df.describe()"
   ]
  },
  {
   "cell_type": "markdown",
   "id": "e203b819",
   "metadata": {},
   "source": [
    "Looking at our standard deviation, we can notice there is some skewness in our data, there must be some outliers"
   ]
  },
  {
   "cell_type": "code",
   "execution_count": 7,
   "id": "1c03f99b",
   "metadata": {},
   "outputs": [
    {
     "data": {
      "text/plain": [
       "(18249, 14)"
      ]
     },
     "execution_count": 7,
     "metadata": {},
     "output_type": "execute_result"
    }
   ],
   "source": [
    "df = df.drop_duplicates()\n",
    "df.shape"
   ]
  },
  {
   "cell_type": "markdown",
   "id": "7a48241f",
   "metadata": {},
   "source": [
    "Remove Unncessary Columns"
   ]
  },
  {
   "cell_type": "markdown",
   "id": "520650b4",
   "metadata": {},
   "source": [
    "No nulls, or duplicates."
   ]
  },
  {
   "cell_type": "code",
   "execution_count": 8,
   "id": "8bb3c1e1",
   "metadata": {},
   "outputs": [
    {
     "data": {
      "text/html": [
       "<div>\n",
       "<style scoped>\n",
       "    .dataframe tbody tr th:only-of-type {\n",
       "        vertical-align: middle;\n",
       "    }\n",
       "\n",
       "    .dataframe tbody tr th {\n",
       "        vertical-align: top;\n",
       "    }\n",
       "\n",
       "    .dataframe thead th {\n",
       "        text-align: right;\n",
       "    }\n",
       "</style>\n",
       "<table border=\"1\" class=\"dataframe\">\n",
       "  <thead>\n",
       "    <tr style=\"text-align: right;\">\n",
       "      <th></th>\n",
       "      <th>AveragePrice</th>\n",
       "      <th>Total Volume</th>\n",
       "      <th>4046</th>\n",
       "      <th>4225</th>\n",
       "      <th>4770</th>\n",
       "      <th>Total Bags</th>\n",
       "      <th>Small Bags</th>\n",
       "      <th>Large Bags</th>\n",
       "      <th>XLarge Bags</th>\n",
       "      <th>type</th>\n",
       "      <th>year</th>\n",
       "      <th>region</th>\n",
       "    </tr>\n",
       "  </thead>\n",
       "  <tbody>\n",
       "    <tr>\n",
       "      <th>0</th>\n",
       "      <td>1.33</td>\n",
       "      <td>64236.62</td>\n",
       "      <td>1036.74</td>\n",
       "      <td>54454.85</td>\n",
       "      <td>48.16</td>\n",
       "      <td>8696.87</td>\n",
       "      <td>8603.62</td>\n",
       "      <td>93.25</td>\n",
       "      <td>0.0</td>\n",
       "      <td>conventional</td>\n",
       "      <td>2015</td>\n",
       "      <td>Albany</td>\n",
       "    </tr>\n",
       "    <tr>\n",
       "      <th>1</th>\n",
       "      <td>1.35</td>\n",
       "      <td>54876.98</td>\n",
       "      <td>674.28</td>\n",
       "      <td>44638.81</td>\n",
       "      <td>58.33</td>\n",
       "      <td>9505.56</td>\n",
       "      <td>9408.07</td>\n",
       "      <td>97.49</td>\n",
       "      <td>0.0</td>\n",
       "      <td>conventional</td>\n",
       "      <td>2015</td>\n",
       "      <td>Albany</td>\n",
       "    </tr>\n",
       "    <tr>\n",
       "      <th>2</th>\n",
       "      <td>0.93</td>\n",
       "      <td>118220.22</td>\n",
       "      <td>794.70</td>\n",
       "      <td>109149.67</td>\n",
       "      <td>130.50</td>\n",
       "      <td>8145.35</td>\n",
       "      <td>8042.21</td>\n",
       "      <td>103.14</td>\n",
       "      <td>0.0</td>\n",
       "      <td>conventional</td>\n",
       "      <td>2015</td>\n",
       "      <td>Albany</td>\n",
       "    </tr>\n",
       "    <tr>\n",
       "      <th>3</th>\n",
       "      <td>1.08</td>\n",
       "      <td>78992.15</td>\n",
       "      <td>1132.00</td>\n",
       "      <td>71976.41</td>\n",
       "      <td>72.58</td>\n",
       "      <td>5811.16</td>\n",
       "      <td>5677.40</td>\n",
       "      <td>133.76</td>\n",
       "      <td>0.0</td>\n",
       "      <td>conventional</td>\n",
       "      <td>2015</td>\n",
       "      <td>Albany</td>\n",
       "    </tr>\n",
       "    <tr>\n",
       "      <th>4</th>\n",
       "      <td>1.28</td>\n",
       "      <td>51039.60</td>\n",
       "      <td>941.48</td>\n",
       "      <td>43838.39</td>\n",
       "      <td>75.78</td>\n",
       "      <td>6183.95</td>\n",
       "      <td>5986.26</td>\n",
       "      <td>197.69</td>\n",
       "      <td>0.0</td>\n",
       "      <td>conventional</td>\n",
       "      <td>2015</td>\n",
       "      <td>Albany</td>\n",
       "    </tr>\n",
       "    <tr>\n",
       "      <th>...</th>\n",
       "      <td>...</td>\n",
       "      <td>...</td>\n",
       "      <td>...</td>\n",
       "      <td>...</td>\n",
       "      <td>...</td>\n",
       "      <td>...</td>\n",
       "      <td>...</td>\n",
       "      <td>...</td>\n",
       "      <td>...</td>\n",
       "      <td>...</td>\n",
       "      <td>...</td>\n",
       "      <td>...</td>\n",
       "    </tr>\n",
       "    <tr>\n",
       "      <th>18244</th>\n",
       "      <td>1.63</td>\n",
       "      <td>17074.83</td>\n",
       "      <td>2046.96</td>\n",
       "      <td>1529.20</td>\n",
       "      <td>0.00</td>\n",
       "      <td>13498.67</td>\n",
       "      <td>13066.82</td>\n",
       "      <td>431.85</td>\n",
       "      <td>0.0</td>\n",
       "      <td>organic</td>\n",
       "      <td>2018</td>\n",
       "      <td>WestTexNewMexico</td>\n",
       "    </tr>\n",
       "    <tr>\n",
       "      <th>18245</th>\n",
       "      <td>1.71</td>\n",
       "      <td>13888.04</td>\n",
       "      <td>1191.70</td>\n",
       "      <td>3431.50</td>\n",
       "      <td>0.00</td>\n",
       "      <td>9264.84</td>\n",
       "      <td>8940.04</td>\n",
       "      <td>324.80</td>\n",
       "      <td>0.0</td>\n",
       "      <td>organic</td>\n",
       "      <td>2018</td>\n",
       "      <td>WestTexNewMexico</td>\n",
       "    </tr>\n",
       "    <tr>\n",
       "      <th>18246</th>\n",
       "      <td>1.87</td>\n",
       "      <td>13766.76</td>\n",
       "      <td>1191.92</td>\n",
       "      <td>2452.79</td>\n",
       "      <td>727.94</td>\n",
       "      <td>9394.11</td>\n",
       "      <td>9351.80</td>\n",
       "      <td>42.31</td>\n",
       "      <td>0.0</td>\n",
       "      <td>organic</td>\n",
       "      <td>2018</td>\n",
       "      <td>WestTexNewMexico</td>\n",
       "    </tr>\n",
       "    <tr>\n",
       "      <th>18247</th>\n",
       "      <td>1.93</td>\n",
       "      <td>16205.22</td>\n",
       "      <td>1527.63</td>\n",
       "      <td>2981.04</td>\n",
       "      <td>727.01</td>\n",
       "      <td>10969.54</td>\n",
       "      <td>10919.54</td>\n",
       "      <td>50.00</td>\n",
       "      <td>0.0</td>\n",
       "      <td>organic</td>\n",
       "      <td>2018</td>\n",
       "      <td>WestTexNewMexico</td>\n",
       "    </tr>\n",
       "    <tr>\n",
       "      <th>18248</th>\n",
       "      <td>1.62</td>\n",
       "      <td>17489.58</td>\n",
       "      <td>2894.77</td>\n",
       "      <td>2356.13</td>\n",
       "      <td>224.53</td>\n",
       "      <td>12014.15</td>\n",
       "      <td>11988.14</td>\n",
       "      <td>26.01</td>\n",
       "      <td>0.0</td>\n",
       "      <td>organic</td>\n",
       "      <td>2018</td>\n",
       "      <td>WestTexNewMexico</td>\n",
       "    </tr>\n",
       "  </tbody>\n",
       "</table>\n",
       "<p>18249 rows × 12 columns</p>\n",
       "</div>"
      ],
      "text/plain": [
       "       AveragePrice  Total Volume     4046       4225    4770  Total Bags  \\\n",
       "0              1.33      64236.62  1036.74   54454.85   48.16     8696.87   \n",
       "1              1.35      54876.98   674.28   44638.81   58.33     9505.56   \n",
       "2              0.93     118220.22   794.70  109149.67  130.50     8145.35   \n",
       "3              1.08      78992.15  1132.00   71976.41   72.58     5811.16   \n",
       "4              1.28      51039.60   941.48   43838.39   75.78     6183.95   \n",
       "...             ...           ...      ...        ...     ...         ...   \n",
       "18244          1.63      17074.83  2046.96    1529.20    0.00    13498.67   \n",
       "18245          1.71      13888.04  1191.70    3431.50    0.00     9264.84   \n",
       "18246          1.87      13766.76  1191.92    2452.79  727.94     9394.11   \n",
       "18247          1.93      16205.22  1527.63    2981.04  727.01    10969.54   \n",
       "18248          1.62      17489.58  2894.77    2356.13  224.53    12014.15   \n",
       "\n",
       "       Small Bags  Large Bags  XLarge Bags          type  year  \\\n",
       "0         8603.62       93.25          0.0  conventional  2015   \n",
       "1         9408.07       97.49          0.0  conventional  2015   \n",
       "2         8042.21      103.14          0.0  conventional  2015   \n",
       "3         5677.40      133.76          0.0  conventional  2015   \n",
       "4         5986.26      197.69          0.0  conventional  2015   \n",
       "...           ...         ...          ...           ...   ...   \n",
       "18244    13066.82      431.85          0.0       organic  2018   \n",
       "18245     8940.04      324.80          0.0       organic  2018   \n",
       "18246     9351.80       42.31          0.0       organic  2018   \n",
       "18247    10919.54       50.00          0.0       organic  2018   \n",
       "18248    11988.14       26.01          0.0       organic  2018   \n",
       "\n",
       "                 region  \n",
       "0                Albany  \n",
       "1                Albany  \n",
       "2                Albany  \n",
       "3                Albany  \n",
       "4                Albany  \n",
       "...                 ...  \n",
       "18244  WestTexNewMexico  \n",
       "18245  WestTexNewMexico  \n",
       "18246  WestTexNewMexico  \n",
       "18247  WestTexNewMexico  \n",
       "18248  WestTexNewMexico  \n",
       "\n",
       "[18249 rows x 12 columns]"
      ]
     },
     "execution_count": 8,
     "metadata": {},
     "output_type": "execute_result"
    }
   ],
   "source": [
    "df = df.drop(columns = ['Date','Unnamed: 0'], axis=1)\n",
    "df"
   ]
  },
  {
   "cell_type": "markdown",
   "id": "725fbe6c",
   "metadata": {},
   "source": [
    "Removed 'Date' column as well, since we already have Year column and we need to avoid overfitting"
   ]
  },
  {
   "cell_type": "markdown",
   "id": "e1a7d796",
   "metadata": {},
   "source": [
    "Now, let's convert the categoricals columns to float columns"
   ]
  },
  {
   "cell_type": "code",
   "execution_count": 9,
   "id": "df435b6a",
   "metadata": {},
   "outputs": [],
   "source": [
    "from sklearn.preprocessing import LabelEncoder"
   ]
  },
  {
   "cell_type": "code",
   "execution_count": 10,
   "id": "747453d9",
   "metadata": {},
   "outputs": [],
   "source": [
    "lab = LabelEncoder()"
   ]
  },
  {
   "cell_type": "code",
   "execution_count": 11,
   "id": "b22385e2",
   "metadata": {},
   "outputs": [
    {
     "data": {
      "text/html": [
       "<div>\n",
       "<style scoped>\n",
       "    .dataframe tbody tr th:only-of-type {\n",
       "        vertical-align: middle;\n",
       "    }\n",
       "\n",
       "    .dataframe tbody tr th {\n",
       "        vertical-align: top;\n",
       "    }\n",
       "\n",
       "    .dataframe thead th {\n",
       "        text-align: right;\n",
       "    }\n",
       "</style>\n",
       "<table border=\"1\" class=\"dataframe\">\n",
       "  <thead>\n",
       "    <tr style=\"text-align: right;\">\n",
       "      <th></th>\n",
       "      <th>AveragePrice</th>\n",
       "      <th>Total Volume</th>\n",
       "      <th>4046</th>\n",
       "      <th>4225</th>\n",
       "      <th>4770</th>\n",
       "      <th>Total Bags</th>\n",
       "      <th>Small Bags</th>\n",
       "      <th>Large Bags</th>\n",
       "      <th>XLarge Bags</th>\n",
       "      <th>type</th>\n",
       "      <th>year</th>\n",
       "      <th>region</th>\n",
       "    </tr>\n",
       "  </thead>\n",
       "  <tbody>\n",
       "    <tr>\n",
       "      <th>0</th>\n",
       "      <td>1.33</td>\n",
       "      <td>64236.62</td>\n",
       "      <td>1036.74</td>\n",
       "      <td>54454.85</td>\n",
       "      <td>48.16</td>\n",
       "      <td>8696.87</td>\n",
       "      <td>8603.62</td>\n",
       "      <td>93.25</td>\n",
       "      <td>0.0</td>\n",
       "      <td>0</td>\n",
       "      <td>2015</td>\n",
       "      <td>0</td>\n",
       "    </tr>\n",
       "    <tr>\n",
       "      <th>1</th>\n",
       "      <td>1.35</td>\n",
       "      <td>54876.98</td>\n",
       "      <td>674.28</td>\n",
       "      <td>44638.81</td>\n",
       "      <td>58.33</td>\n",
       "      <td>9505.56</td>\n",
       "      <td>9408.07</td>\n",
       "      <td>97.49</td>\n",
       "      <td>0.0</td>\n",
       "      <td>0</td>\n",
       "      <td>2015</td>\n",
       "      <td>0</td>\n",
       "    </tr>\n",
       "    <tr>\n",
       "      <th>2</th>\n",
       "      <td>0.93</td>\n",
       "      <td>118220.22</td>\n",
       "      <td>794.70</td>\n",
       "      <td>109149.67</td>\n",
       "      <td>130.50</td>\n",
       "      <td>8145.35</td>\n",
       "      <td>8042.21</td>\n",
       "      <td>103.14</td>\n",
       "      <td>0.0</td>\n",
       "      <td>0</td>\n",
       "      <td>2015</td>\n",
       "      <td>0</td>\n",
       "    </tr>\n",
       "    <tr>\n",
       "      <th>3</th>\n",
       "      <td>1.08</td>\n",
       "      <td>78992.15</td>\n",
       "      <td>1132.00</td>\n",
       "      <td>71976.41</td>\n",
       "      <td>72.58</td>\n",
       "      <td>5811.16</td>\n",
       "      <td>5677.40</td>\n",
       "      <td>133.76</td>\n",
       "      <td>0.0</td>\n",
       "      <td>0</td>\n",
       "      <td>2015</td>\n",
       "      <td>0</td>\n",
       "    </tr>\n",
       "    <tr>\n",
       "      <th>4</th>\n",
       "      <td>1.28</td>\n",
       "      <td>51039.60</td>\n",
       "      <td>941.48</td>\n",
       "      <td>43838.39</td>\n",
       "      <td>75.78</td>\n",
       "      <td>6183.95</td>\n",
       "      <td>5986.26</td>\n",
       "      <td>197.69</td>\n",
       "      <td>0.0</td>\n",
       "      <td>0</td>\n",
       "      <td>2015</td>\n",
       "      <td>0</td>\n",
       "    </tr>\n",
       "    <tr>\n",
       "      <th>...</th>\n",
       "      <td>...</td>\n",
       "      <td>...</td>\n",
       "      <td>...</td>\n",
       "      <td>...</td>\n",
       "      <td>...</td>\n",
       "      <td>...</td>\n",
       "      <td>...</td>\n",
       "      <td>...</td>\n",
       "      <td>...</td>\n",
       "      <td>...</td>\n",
       "      <td>...</td>\n",
       "      <td>...</td>\n",
       "    </tr>\n",
       "    <tr>\n",
       "      <th>18244</th>\n",
       "      <td>1.63</td>\n",
       "      <td>17074.83</td>\n",
       "      <td>2046.96</td>\n",
       "      <td>1529.20</td>\n",
       "      <td>0.00</td>\n",
       "      <td>13498.67</td>\n",
       "      <td>13066.82</td>\n",
       "      <td>431.85</td>\n",
       "      <td>0.0</td>\n",
       "      <td>1</td>\n",
       "      <td>2018</td>\n",
       "      <td>53</td>\n",
       "    </tr>\n",
       "    <tr>\n",
       "      <th>18245</th>\n",
       "      <td>1.71</td>\n",
       "      <td>13888.04</td>\n",
       "      <td>1191.70</td>\n",
       "      <td>3431.50</td>\n",
       "      <td>0.00</td>\n",
       "      <td>9264.84</td>\n",
       "      <td>8940.04</td>\n",
       "      <td>324.80</td>\n",
       "      <td>0.0</td>\n",
       "      <td>1</td>\n",
       "      <td>2018</td>\n",
       "      <td>53</td>\n",
       "    </tr>\n",
       "    <tr>\n",
       "      <th>18246</th>\n",
       "      <td>1.87</td>\n",
       "      <td>13766.76</td>\n",
       "      <td>1191.92</td>\n",
       "      <td>2452.79</td>\n",
       "      <td>727.94</td>\n",
       "      <td>9394.11</td>\n",
       "      <td>9351.80</td>\n",
       "      <td>42.31</td>\n",
       "      <td>0.0</td>\n",
       "      <td>1</td>\n",
       "      <td>2018</td>\n",
       "      <td>53</td>\n",
       "    </tr>\n",
       "    <tr>\n",
       "      <th>18247</th>\n",
       "      <td>1.93</td>\n",
       "      <td>16205.22</td>\n",
       "      <td>1527.63</td>\n",
       "      <td>2981.04</td>\n",
       "      <td>727.01</td>\n",
       "      <td>10969.54</td>\n",
       "      <td>10919.54</td>\n",
       "      <td>50.00</td>\n",
       "      <td>0.0</td>\n",
       "      <td>1</td>\n",
       "      <td>2018</td>\n",
       "      <td>53</td>\n",
       "    </tr>\n",
       "    <tr>\n",
       "      <th>18248</th>\n",
       "      <td>1.62</td>\n",
       "      <td>17489.58</td>\n",
       "      <td>2894.77</td>\n",
       "      <td>2356.13</td>\n",
       "      <td>224.53</td>\n",
       "      <td>12014.15</td>\n",
       "      <td>11988.14</td>\n",
       "      <td>26.01</td>\n",
       "      <td>0.0</td>\n",
       "      <td>1</td>\n",
       "      <td>2018</td>\n",
       "      <td>53</td>\n",
       "    </tr>\n",
       "  </tbody>\n",
       "</table>\n",
       "<p>18249 rows × 12 columns</p>\n",
       "</div>"
      ],
      "text/plain": [
       "       AveragePrice  Total Volume     4046       4225    4770  Total Bags  \\\n",
       "0              1.33      64236.62  1036.74   54454.85   48.16     8696.87   \n",
       "1              1.35      54876.98   674.28   44638.81   58.33     9505.56   \n",
       "2              0.93     118220.22   794.70  109149.67  130.50     8145.35   \n",
       "3              1.08      78992.15  1132.00   71976.41   72.58     5811.16   \n",
       "4              1.28      51039.60   941.48   43838.39   75.78     6183.95   \n",
       "...             ...           ...      ...        ...     ...         ...   \n",
       "18244          1.63      17074.83  2046.96    1529.20    0.00    13498.67   \n",
       "18245          1.71      13888.04  1191.70    3431.50    0.00     9264.84   \n",
       "18246          1.87      13766.76  1191.92    2452.79  727.94     9394.11   \n",
       "18247          1.93      16205.22  1527.63    2981.04  727.01    10969.54   \n",
       "18248          1.62      17489.58  2894.77    2356.13  224.53    12014.15   \n",
       "\n",
       "       Small Bags  Large Bags  XLarge Bags  type  year  region  \n",
       "0         8603.62       93.25          0.0     0  2015       0  \n",
       "1         9408.07       97.49          0.0     0  2015       0  \n",
       "2         8042.21      103.14          0.0     0  2015       0  \n",
       "3         5677.40      133.76          0.0     0  2015       0  \n",
       "4         5986.26      197.69          0.0     0  2015       0  \n",
       "...           ...         ...          ...   ...   ...     ...  \n",
       "18244    13066.82      431.85          0.0     1  2018      53  \n",
       "18245     8940.04      324.80          0.0     1  2018      53  \n",
       "18246     9351.80       42.31          0.0     1  2018      53  \n",
       "18247    10919.54       50.00          0.0     1  2018      53  \n",
       "18248    11988.14       26.01          0.0     1  2018      53  \n",
       "\n",
       "[18249 rows x 12 columns]"
      ]
     },
     "execution_count": 11,
     "metadata": {},
     "output_type": "execute_result"
    }
   ],
   "source": [
    "df['type'] = lab.fit_transform(df['type'])\n",
    "df['region'] = lab.fit_transform(df['region'])\n",
    "df"
   ]
  },
  {
   "cell_type": "markdown",
   "id": "f9718ed4",
   "metadata": {},
   "source": [
    "Now that we have cleaned our dataset, let's begin with the visualization"
   ]
  },
  {
   "cell_type": "code",
   "execution_count": 12,
   "id": "21fd6331",
   "metadata": {},
   "outputs": [
    {
     "data": {
      "image/png": "[encoded data removed]",
      "text/plain": [
       "<Figure size 1440x1440 with 12 Axes>"
      ]
     },
     "metadata": {
      "needs_background": "light"
     },
     "output_type": "display_data"
    }
   ],
   "source": [
    "plt.figure(figsize=(20,20))\n",
    "plotnumber=1\n",
    "for column in df:\n",
    "    if plotnumber<=14:\n",
    "        ax=plt.subplot(6,3,plotnumber)\n",
    "        sns.distplot(df[column])\n",
    "        plt.xlabel(column,fontsize=10)\n",
    "    plotnumber+=1\n",
    "plt.show()"
   ]
  },
  {
   "cell_type": "code",
   "execution_count": 13,
   "id": "90ac5aa8",
   "metadata": {},
   "outputs": [
    {
     "data": {
      "image/png": "[encoded data removed]",
      "text/plain": [
       "<Figure size 1440x1440 with 12 Axes>"
      ]
     },
     "metadata": {
      "needs_background": "light"
     },
     "output_type": "display_data"
    }
   ],
   "source": [
    "plt.figure(figsize=(20,20))\n",
    "plotnumber=1\n",
    "for column in df:\n",
    "    if plotnumber<=14:\n",
    "        ax=plt.subplot(6,3,plotnumber)\n",
    "        sns.histplot(x=column,data=df,kde=True)\n",
    "        plt.xlabel(column,fontsize=10)\n",
    "    plotnumber+=1\n",
    "plt.show()"
   ]
  },
  {
   "cell_type": "code",
   "execution_count": 14,
   "id": "1aed7f63",
   "metadata": {},
   "outputs": [
    {
     "data": {
      "image/png": "[encoded data removed]",
      "text/plain": [
       "<Figure size 1440x1440 with 12 Axes>"
      ]
     },
     "metadata": {
      "needs_background": "light"
     },
     "output_type": "display_data"
    }
   ],
   "source": [
    "plt.figure(figsize=(20,20))\n",
    "plotnumber=1\n",
    "for column in df:\n",
    "    if plotnumber<=14:\n",
    "        ax=plt.subplot(6,3,plotnumber)\n",
    "        sns.regplot(x=column,y='AveragePrice',data=df)\n",
    "        plt.xlabel(column,fontsize=10)\n",
    "    plotnumber+=1\n",
    "plt.show()"
   ]
  },
  {
   "cell_type": "code",
   "execution_count": 15,
   "id": "fe3f19d5",
   "metadata": {},
   "outputs": [
    {
     "data": {
      "image/png": "[encoded data removed]",
      "text/plain": [
       "<Figure size 1440x1440 with 12 Axes>"
      ]
     },
     "metadata": {
      "needs_background": "light"
     },
     "output_type": "display_data"
    }
   ],
   "source": [
    "plt.figure(figsize=(20,20))\n",
    "plotnumber=1\n",
    "for column in df:\n",
    "    if plotnumber<=14:\n",
    "        ax=plt.subplot(6,3,plotnumber)\n",
    "        sns.regplot(x=column,y='region',data=df)\n",
    "        plt.xlabel(column,fontsize=10)\n",
    "    plotnumber+=1\n",
    "plt.show()"
   ]
  },
  {
   "cell_type": "markdown",
   "id": "f34938b1",
   "metadata": {},
   "source": [
    "Let's check the heatmap for any multi-collinearity problems"
   ]
  },
  {
   "cell_type": "code",
   "execution_count": 16,
   "id": "4bf1f4c4",
   "metadata": {},
   "outputs": [
    {
     "data": {
      "image/png": "[encoded data removed]",
      "text/plain": [
       "<Figure size 1440x1440 with 2 Axes>"
      ]
     },
     "metadata": {
      "needs_background": "light"
     },
     "output_type": "display_data"
    }
   ],
   "source": [
    "df_corr = df.corr().abs()\n",
    "\n",
    "plt.figure(figsize=(20,20))\n",
    "sns.heatmap(df_corr,annot = True)\n",
    "plt.show()"
   ]
  },
  {
   "cell_type": "markdown",
   "id": "a533909b",
   "metadata": {},
   "source": [
    "We need to remove 'Small Bags' column to reduce collinearity (it has high collinearity with 2 columns)"
   ]
  },
  {
   "cell_type": "code",
   "execution_count": 17,
   "id": "c6613e38",
   "metadata": {},
   "outputs": [
    {
     "data": {
      "text/html": [
       "<div>\n",
       "<style scoped>\n",
       "    .dataframe tbody tr th:only-of-type {\n",
       "        vertical-align: middle;\n",
       "    }\n",
       "\n",
       "    .dataframe tbody tr th {\n",
       "        vertical-align: top;\n",
       "    }\n",
       "\n",
       "    .dataframe thead th {\n",
       "        text-align: right;\n",
       "    }\n",
       "</style>\n",
       "<table border=\"1\" class=\"dataframe\">\n",
       "  <thead>\n",
       "    <tr style=\"text-align: right;\">\n",
       "      <th></th>\n",
       "      <th>AveragePrice</th>\n",
       "      <th>Total Volume</th>\n",
       "      <th>4046</th>\n",
       "      <th>4225</th>\n",
       "      <th>4770</th>\n",
       "      <th>Total Bags</th>\n",
       "      <th>Large Bags</th>\n",
       "      <th>XLarge Bags</th>\n",
       "      <th>type</th>\n",
       "      <th>year</th>\n",
       "      <th>region</th>\n",
       "    </tr>\n",
       "  </thead>\n",
       "  <tbody>\n",
       "    <tr>\n",
       "      <th>0</th>\n",
       "      <td>1.33</td>\n",
       "      <td>64236.62</td>\n",
       "      <td>1036.74</td>\n",
       "      <td>54454.85</td>\n",
       "      <td>48.16</td>\n",
       "      <td>8696.87</td>\n",
       "      <td>93.25</td>\n",
       "      <td>0.0</td>\n",
       "      <td>0</td>\n",
       "      <td>2015</td>\n",
       "      <td>0</td>\n",
       "    </tr>\n",
       "    <tr>\n",
       "      <th>1</th>\n",
       "      <td>1.35</td>\n",
       "      <td>54876.98</td>\n",
       "      <td>674.28</td>\n",
       "      <td>44638.81</td>\n",
       "      <td>58.33</td>\n",
       "      <td>9505.56</td>\n",
       "      <td>97.49</td>\n",
       "      <td>0.0</td>\n",
       "      <td>0</td>\n",
       "      <td>2015</td>\n",
       "      <td>0</td>\n",
       "    </tr>\n",
       "    <tr>\n",
       "      <th>2</th>\n",
       "      <td>0.93</td>\n",
       "      <td>118220.22</td>\n",
       "      <td>794.70</td>\n",
       "      <td>109149.67</td>\n",
       "      <td>130.50</td>\n",
       "      <td>8145.35</td>\n",
       "      <td>103.14</td>\n",
       "      <td>0.0</td>\n",
       "      <td>0</td>\n",
       "      <td>2015</td>\n",
       "      <td>0</td>\n",
       "    </tr>\n",
       "    <tr>\n",
       "      <th>3</th>\n",
       "      <td>1.08</td>\n",
       "      <td>78992.15</td>\n",
       "      <td>1132.00</td>\n",
       "      <td>71976.41</td>\n",
       "      <td>72.58</td>\n",
       "      <td>5811.16</td>\n",
       "      <td>133.76</td>\n",
       "      <td>0.0</td>\n",
       "      <td>0</td>\n",
       "      <td>2015</td>\n",
       "      <td>0</td>\n",
       "    </tr>\n",
       "    <tr>\n",
       "      <th>4</th>\n",
       "      <td>1.28</td>\n",
       "      <td>51039.60</td>\n",
       "      <td>941.48</td>\n",
       "      <td>43838.39</td>\n",
       "      <td>75.78</td>\n",
       "      <td>6183.95</td>\n",
       "      <td>197.69</td>\n",
       "      <td>0.0</td>\n",
       "      <td>0</td>\n",
       "      <td>2015</td>\n",
       "      <td>0</td>\n",
       "    </tr>\n",
       "    <tr>\n",
       "      <th>...</th>\n",
       "      <td>...</td>\n",
       "      <td>...</td>\n",
       "      <td>...</td>\n",
       "      <td>...</td>\n",
       "      <td>...</td>\n",
       "      <td>...</td>\n",
       "      <td>...</td>\n",
       "      <td>...</td>\n",
       "      <td>...</td>\n",
       "      <td>...</td>\n",
       "      <td>...</td>\n",
       "    </tr>\n",
       "    <tr>\n",
       "      <th>18244</th>\n",
       "      <td>1.63</td>\n",
       "      <td>17074.83</td>\n",
       "      <td>2046.96</td>\n",
       "      <td>1529.20</td>\n",
       "      <td>0.00</td>\n",
       "      <td>13498.67</td>\n",
       "      <td>431.85</td>\n",
       "      <td>0.0</td>\n",
       "      <td>1</td>\n",
       "      <td>2018</td>\n",
       "      <td>53</td>\n",
       "    </tr>\n",
       "    <tr>\n",
       "      <th>18245</th>\n",
       "      <td>1.71</td>\n",
       "      <td>13888.04</td>\n",
       "      <td>1191.70</td>\n",
       "      <td>3431.50</td>\n",
       "      <td>0.00</td>\n",
       "      <td>9264.84</td>\n",
       "      <td>324.80</td>\n",
       "      <td>0.0</td>\n",
       "      <td>1</td>\n",
       "      <td>2018</td>\n",
       "      <td>53</td>\n",
       "    </tr>\n",
       "    <tr>\n",
       "      <th>18246</th>\n",
       "      <td>1.87</td>\n",
       "      <td>13766.76</td>\n",
       "      <td>1191.92</td>\n",
       "      <td>2452.79</td>\n",
       "      <td>727.94</td>\n",
       "      <td>9394.11</td>\n",
       "      <td>42.31</td>\n",
       "      <td>0.0</td>\n",
       "      <td>1</td>\n",
       "      <td>2018</td>\n",
       "      <td>53</td>\n",
       "    </tr>\n",
       "    <tr>\n",
       "      <th>18247</th>\n",
       "      <td>1.93</td>\n",
       "      <td>16205.22</td>\n",
       "      <td>1527.63</td>\n",
       "      <td>2981.04</td>\n",
       "      <td>727.01</td>\n",
       "      <td>10969.54</td>\n",
       "      <td>50.00</td>\n",
       "      <td>0.0</td>\n",
       "      <td>1</td>\n",
       "      <td>2018</td>\n",
       "      <td>53</td>\n",
       "    </tr>\n",
       "    <tr>\n",
       "      <th>18248</th>\n",
       "      <td>1.62</td>\n",
       "      <td>17489.58</td>\n",
       "      <td>2894.77</td>\n",
       "      <td>2356.13</td>\n",
       "      <td>224.53</td>\n",
       "      <td>12014.15</td>\n",
       "      <td>26.01</td>\n",
       "      <td>0.0</td>\n",
       "      <td>1</td>\n",
       "      <td>2018</td>\n",
       "      <td>53</td>\n",
       "    </tr>\n",
       "  </tbody>\n",
       "</table>\n",
       "<p>18249 rows × 11 columns</p>\n",
       "</div>"
      ],
      "text/plain": [
       "       AveragePrice  Total Volume     4046       4225    4770  Total Bags  \\\n",
       "0              1.33      64236.62  1036.74   54454.85   48.16     8696.87   \n",
       "1              1.35      54876.98   674.28   44638.81   58.33     9505.56   \n",
       "2              0.93     118220.22   794.70  109149.67  130.50     8145.35   \n",
       "3              1.08      78992.15  1132.00   71976.41   72.58     5811.16   \n",
       "4              1.28      51039.60   941.48   43838.39   75.78     6183.95   \n",
       "...             ...           ...      ...        ...     ...         ...   \n",
       "18244          1.63      17074.83  2046.96    1529.20    0.00    13498.67   \n",
       "18245          1.71      13888.04  1191.70    3431.50    0.00     9264.84   \n",
       "18246          1.87      13766.76  1191.92    2452.79  727.94     9394.11   \n",
       "18247          1.93      16205.22  1527.63    2981.04  727.01    10969.54   \n",
       "18248          1.62      17489.58  2894.77    2356.13  224.53    12014.15   \n",
       "\n",
       "       Large Bags  XLarge Bags  type  year  region  \n",
       "0           93.25          0.0     0  2015       0  \n",
       "1           97.49          0.0     0  2015       0  \n",
       "2          103.14          0.0     0  2015       0  \n",
       "3          133.76          0.0     0  2015       0  \n",
       "4          197.69          0.0     0  2015       0  \n",
       "...           ...          ...   ...   ...     ...  \n",
       "18244      431.85          0.0     1  2018      53  \n",
       "18245      324.80          0.0     1  2018      53  \n",
       "18246       42.31          0.0     1  2018      53  \n",
       "18247       50.00          0.0     1  2018      53  \n",
       "18248       26.01          0.0     1  2018      53  \n",
       "\n",
       "[18249 rows x 11 columns]"
      ]
     },
     "execution_count": 17,
     "metadata": {},
     "output_type": "execute_result"
    }
   ],
   "source": [
    "df = df.drop(columns = ['Small Bags'], axis = 1)\n",
    "df"
   ]
  },
  {
   "cell_type": "code",
   "execution_count": 18,
   "id": "d535c94e",
   "metadata": {},
   "outputs": [
    {
     "data": {
      "text/plain": [
       "AveragePrice     0.580303\n",
       "Total Volume     9.007687\n",
       "4046             8.648220\n",
       "4225             8.942466\n",
       "4770            10.159396\n",
       "Total Bags       9.756072\n",
       "Large Bags       9.796455\n",
       "XLarge Bags     13.139751\n",
       "type             0.000329\n",
       "year             0.215339\n",
       "region           0.000030\n",
       "dtype: float64"
      ]
     },
     "execution_count": 18,
     "metadata": {},
     "output_type": "execute_result"
    }
   ],
   "source": [
    "df.skew()"
   ]
  },
  {
   "cell_type": "markdown",
   "id": "79f90163",
   "metadata": {},
   "source": [
    "We need to now seperate our Classification and Regression Datasets"
   ]
  },
  {
   "cell_type": "code",
   "execution_count": 19,
   "id": "cb402d13",
   "metadata": {},
   "outputs": [],
   "source": [
    "df_class = df"
   ]
  },
  {
   "cell_type": "code",
   "execution_count": 20,
   "id": "d1711d1e",
   "metadata": {},
   "outputs": [],
   "source": [
    "df_reg = df"
   ]
  },
  {
   "cell_type": "markdown",
   "id": "338902d0",
   "metadata": {},
   "source": [
    "Now, let's first try on our Regression dataset"
   ]
  },
  {
   "cell_type": "code",
   "execution_count": 21,
   "id": "c2eea88b",
   "metadata": {},
   "outputs": [],
   "source": [
    "x_reg = df.drop(columns = ['AveragePrice'])\n",
    "y_reg = df.AveragePrice"
   ]
  },
  {
   "cell_type": "code",
   "execution_count": 22,
   "id": "0d2aeec6",
   "metadata": {},
   "outputs": [
    {
     "data": {
      "text/html": [
       "<div>\n",
       "<style scoped>\n",
       "    .dataframe tbody tr th:only-of-type {\n",
       "        vertical-align: middle;\n",
       "    }\n",
       "\n",
       "    .dataframe tbody tr th {\n",
       "        vertical-align: top;\n",
       "    }\n",
       "\n",
       "    .dataframe thead th {\n",
       "        text-align: right;\n",
       "    }\n",
       "</style>\n",
       "<table border=\"1\" class=\"dataframe\">\n",
       "  <thead>\n",
       "    <tr style=\"text-align: right;\">\n",
       "      <th></th>\n",
       "      <th>Total Volume</th>\n",
       "      <th>4046</th>\n",
       "      <th>4225</th>\n",
       "      <th>4770</th>\n",
       "      <th>Total Bags</th>\n",
       "      <th>Large Bags</th>\n",
       "      <th>XLarge Bags</th>\n",
       "      <th>type</th>\n",
       "      <th>year</th>\n",
       "      <th>region</th>\n",
       "    </tr>\n",
       "  </thead>\n",
       "  <tbody>\n",
       "    <tr>\n",
       "      <th>0</th>\n",
       "      <td>64236.62</td>\n",
       "      <td>1036.74</td>\n",
       "      <td>54454.85</td>\n",
       "      <td>48.16</td>\n",
       "      <td>8696.87</td>\n",
       "      <td>93.25</td>\n",
       "      <td>0.0</td>\n",
       "      <td>0</td>\n",
       "      <td>2015</td>\n",
       "      <td>0</td>\n",
       "    </tr>\n",
       "    <tr>\n",
       "      <th>1</th>\n",
       "      <td>54876.98</td>\n",
       "      <td>674.28</td>\n",
       "      <td>44638.81</td>\n",
       "      <td>58.33</td>\n",
       "      <td>9505.56</td>\n",
       "      <td>97.49</td>\n",
       "      <td>0.0</td>\n",
       "      <td>0</td>\n",
       "      <td>2015</td>\n",
       "      <td>0</td>\n",
       "    </tr>\n",
       "    <tr>\n",
       "      <th>2</th>\n",
       "      <td>118220.22</td>\n",
       "      <td>794.70</td>\n",
       "      <td>109149.67</td>\n",
       "      <td>130.50</td>\n",
       "      <td>8145.35</td>\n",
       "      <td>103.14</td>\n",
       "      <td>0.0</td>\n",
       "      <td>0</td>\n",
       "      <td>2015</td>\n",
       "      <td>0</td>\n",
       "    </tr>\n",
       "    <tr>\n",
       "      <th>3</th>\n",
       "      <td>78992.15</td>\n",
       "      <td>1132.00</td>\n",
       "      <td>71976.41</td>\n",
       "      <td>72.58</td>\n",
       "      <td>5811.16</td>\n",
       "      <td>133.76</td>\n",
       "      <td>0.0</td>\n",
       "      <td>0</td>\n",
       "      <td>2015</td>\n",
       "      <td>0</td>\n",
       "    </tr>\n",
       "    <tr>\n",
       "      <th>4</th>\n",
       "      <td>51039.60</td>\n",
       "      <td>941.48</td>\n",
       "      <td>43838.39</td>\n",
       "      <td>75.78</td>\n",
       "      <td>6183.95</td>\n",
       "      <td>197.69</td>\n",
       "      <td>0.0</td>\n",
       "      <td>0</td>\n",
       "      <td>2015</td>\n",
       "      <td>0</td>\n",
       "    </tr>\n",
       "    <tr>\n",
       "      <th>...</th>\n",
       "      <td>...</td>\n",
       "      <td>...</td>\n",
       "      <td>...</td>\n",
       "      <td>...</td>\n",
       "      <td>...</td>\n",
       "      <td>...</td>\n",
       "      <td>...</td>\n",
       "      <td>...</td>\n",
       "      <td>...</td>\n",
       "      <td>...</td>\n",
       "    </tr>\n",
       "    <tr>\n",
       "      <th>18244</th>\n",
       "      <td>17074.83</td>\n",
       "      <td>2046.96</td>\n",
       "      <td>1529.20</td>\n",
       "      <td>0.00</td>\n",
       "      <td>13498.67</td>\n",
       "      <td>431.85</td>\n",
       "      <td>0.0</td>\n",
       "      <td>1</td>\n",
       "      <td>2018</td>\n",
       "      <td>53</td>\n",
       "    </tr>\n",
       "    <tr>\n",
       "      <th>18245</th>\n",
       "      <td>13888.04</td>\n",
       "      <td>1191.70</td>\n",
       "      <td>3431.50</td>\n",
       "      <td>0.00</td>\n",
       "      <td>9264.84</td>\n",
       "      <td>324.80</td>\n",
       "      <td>0.0</td>\n",
       "      <td>1</td>\n",
       "      <td>2018</td>\n",
       "      <td>53</td>\n",
       "    </tr>\n",
       "    <tr>\n",
       "      <th>18246</th>\n",
       "      <td>13766.76</td>\n",
       "      <td>1191.92</td>\n",
       "      <td>2452.79</td>\n",
       "      <td>727.94</td>\n",
       "      <td>9394.11</td>\n",
       "      <td>42.31</td>\n",
       "      <td>0.0</td>\n",
       "      <td>1</td>\n",
       "      <td>2018</td>\n",
       "      <td>53</td>\n",
       "    </tr>\n",
       "    <tr>\n",
       "      <th>18247</th>\n",
       "      <td>16205.22</td>\n",
       "      <td>1527.63</td>\n",
       "      <td>2981.04</td>\n",
       "      <td>727.01</td>\n",
       "      <td>10969.54</td>\n",
       "      <td>50.00</td>\n",
       "      <td>0.0</td>\n",
       "      <td>1</td>\n",
       "      <td>2018</td>\n",
       "      <td>53</td>\n",
       "    </tr>\n",
       "    <tr>\n",
       "      <th>18248</th>\n",
       "      <td>17489.58</td>\n",
       "      <td>2894.77</td>\n",
       "      <td>2356.13</td>\n",
       "      <td>224.53</td>\n",
       "      <td>12014.15</td>\n",
       "      <td>26.01</td>\n",
       "      <td>0.0</td>\n",
       "      <td>1</td>\n",
       "      <td>2018</td>\n",
       "      <td>53</td>\n",
       "    </tr>\n",
       "  </tbody>\n",
       "</table>\n",
       "<p>18249 rows × 10 columns</p>\n",
       "</div>"
      ],
      "text/plain": [
       "       Total Volume     4046       4225    4770  Total Bags  Large Bags  \\\n",
       "0          64236.62  1036.74   54454.85   48.16     8696.87       93.25   \n",
       "1          54876.98   674.28   44638.81   58.33     9505.56       97.49   \n",
       "2         118220.22   794.70  109149.67  130.50     8145.35      103.14   \n",
       "3          78992.15  1132.00   71976.41   72.58     5811.16      133.76   \n",
       "4          51039.60   941.48   43838.39   75.78     6183.95      197.69   \n",
       "...             ...      ...        ...     ...         ...         ...   \n",
       "18244      17074.83  2046.96    1529.20    0.00    13498.67      431.85   \n",
       "18245      13888.04  1191.70    3431.50    0.00     9264.84      324.80   \n",
       "18246      13766.76  1191.92    2452.79  727.94     9394.11       42.31   \n",
       "18247      16205.22  1527.63    2981.04  727.01    10969.54       50.00   \n",
       "18248      17489.58  2894.77    2356.13  224.53    12014.15       26.01   \n",
       "\n",
       "       XLarge Bags  type  year  region  \n",
       "0              0.0     0  2015       0  \n",
       "1              0.0     0  2015       0  \n",
       "2              0.0     0  2015       0  \n",
       "3              0.0     0  2015       0  \n",
       "4              0.0     0  2015       0  \n",
       "...            ...   ...   ...     ...  \n",
       "18244          0.0     1  2018      53  \n",
       "18245          0.0     1  2018      53  \n",
       "18246          0.0     1  2018      53  \n",
       "18247          0.0     1  2018      53  \n",
       "18248          0.0     1  2018      53  \n",
       "\n",
       "[18249 rows x 10 columns]"
      ]
     },
     "execution_count": 22,
     "metadata": {},
     "output_type": "execute_result"
    }
   ],
   "source": [
    "x_reg"
   ]
  },
  {
   "cell_type": "code",
   "execution_count": 23,
   "id": "b470c9d4",
   "metadata": {},
   "outputs": [
    {
     "data": {
      "text/plain": [
       "0        1.33\n",
       "1        1.35\n",
       "2        0.93\n",
       "3        1.08\n",
       "4        1.28\n",
       "         ... \n",
       "18244    1.63\n",
       "18245    1.71\n",
       "18246    1.87\n",
       "18247    1.93\n",
       "18248    1.62\n",
       "Name: AveragePrice, Length: 18249, dtype: float64"
      ]
     },
     "execution_count": 23,
     "metadata": {},
     "output_type": "execute_result"
    }
   ],
   "source": [
    "y_reg"
   ]
  },
  {
   "cell_type": "markdown",
   "id": "b79150c2",
   "metadata": {},
   "source": [
    "Now that we have removed outliers, use Power Transformer to reduce skewness"
   ]
  },
  {
   "cell_type": "code",
   "execution_count": 24,
   "id": "d7f1e32a",
   "metadata": {},
   "outputs": [],
   "source": [
    "from sklearn.preprocessing import PowerTransformer\n",
    "scaler = PowerTransformer(method='yeo-johnson')"
   ]
  },
  {
   "cell_type": "code",
   "execution_count": 25,
   "id": "0ce91edf",
   "metadata": {},
   "outputs": [
    {
     "data": {
      "text/plain": [
       "array([[-0.08660524, -0.65861896,  0.30731294, ..., -0.99983562,\n",
       "        -1.22189489, -2.01155231],\n",
       "       [-0.15574567, -0.77686953,  0.23164739, ..., -0.99983562,\n",
       "        -1.22189489, -2.01155231],\n",
       "       [ 0.17932662, -0.73194656,  0.57950332, ..., -0.99983562,\n",
       "        -1.22189489, -2.01155231],\n",
       "       ...,\n",
       "       [-0.77150535, -0.61983119, -0.77249619, ...,  1.00016441,\n",
       "         1.96854784,  1.54383806],\n",
       "       [-0.69807719, -0.55028196, -0.71054316, ...,  1.00016441,\n",
       "         1.96854784,  1.54383806],\n",
       "       [-0.66380937, -0.36790819, -0.78517306, ...,  1.00016441,\n",
       "         1.96854784,  1.54383806]])"
      ]
     },
     "execution_count": 25,
     "metadata": {},
     "output_type": "execute_result"
    }
   ],
   "source": [
    "x_reg_scaled = scaler.fit_transform(x_reg.values)\n",
    "x_reg_scaled"
   ]
  },
  {
   "cell_type": "markdown",
   "id": "1fbc3371",
   "metadata": {},
   "source": [
    "Now, we use PCA to perform dimension reduction for our model"
   ]
  },
  {
   "cell_type": "code",
   "execution_count": 26,
   "id": "7c3b477a",
   "metadata": {},
   "outputs": [],
   "source": [
    "from sklearn.decomposition import PCA"
   ]
  },
  {
   "cell_type": "code",
   "execution_count": 27,
   "id": "94460d48",
   "metadata": {},
   "outputs": [],
   "source": [
    "pca = PCA()"
   ]
  },
  {
   "cell_type": "code",
   "execution_count": 28,
   "id": "aff5f96f",
   "metadata": {},
   "outputs": [
    {
     "data": {
      "text/plain": [
       "array([[-0.70395646, -1.65890137,  1.97968387, ...,  0.76452961,\n",
       "         0.04793336,  0.03962094],\n",
       "       [-0.76784268, -1.64043001,  1.9945707 , ...,  0.73273692,\n",
       "        -0.03960461,  0.01787853],\n",
       "       [-0.44329329, -1.72680244,  1.99947833, ...,  0.82619278,\n",
       "         0.14538853,  0.21187788],\n",
       "       ...,\n",
       "       [-1.53816103,  1.81020088, -1.35027439, ..., -0.83907426,\n",
       "         0.14911349, -0.03314829],\n",
       "       [-1.42559289,  1.81361247, -1.36275921, ..., -0.8226126 ,\n",
       "         0.14148717, -0.03030229],\n",
       "       [-1.49960696,  1.82993546, -1.38684655, ..., -0.75213167,\n",
       "         0.09359595, -0.04572008]])"
      ]
     },
     "execution_count": 28,
     "metadata": {},
     "output_type": "execute_result"
    }
   ],
   "source": [
    "pca.fit_transform(x_reg_scaled)"
   ]
  },
  {
   "cell_type": "code",
   "execution_count": 29,
   "id": "4c768ff3",
   "metadata": {},
   "outputs": [
    {
     "data": {
      "image/png": "[encoded data removed]",
      "text/plain": [
       "<Figure size 432x288 with 1 Axes>"
      ]
     },
     "metadata": {
      "needs_background": "light"
     },
     "output_type": "display_data"
    }
   ],
   "source": [
    "plt.figure()\n",
    "plt.plot(np.cumsum(pca.explained_variance_ratio_))\n",
    "plt.xlabel('Principal Components')\n",
    "plt.ylabel('Variance Covered')\n",
    "plt.show()"
   ]
  },
  {
   "cell_type": "markdown",
   "id": "2c2072a0",
   "metadata": {},
   "source": [
    "We can see, we only need about 7 components to cover about 99% of variance"
   ]
  },
  {
   "cell_type": "code",
   "execution_count": 30,
   "id": "c28da6df",
   "metadata": {},
   "outputs": [
    {
     "data": {
      "text/html": [
       "<div>\n",
       "<style scoped>\n",
       "    .dataframe tbody tr th:only-of-type {\n",
       "        vertical-align: middle;\n",
       "    }\n",
       "\n",
       "    .dataframe tbody tr th {\n",
       "        vertical-align: top;\n",
       "    }\n",
       "\n",
       "    .dataframe thead th {\n",
       "        text-align: right;\n",
       "    }\n",
       "</style>\n",
       "<table border=\"1\" class=\"dataframe\">\n",
       "  <thead>\n",
       "    <tr style=\"text-align: right;\">\n",
       "      <th></th>\n",
       "      <th>PC1</th>\n",
       "      <th>PC2</th>\n",
       "      <th>PC3</th>\n",
       "      <th>PC4</th>\n",
       "      <th>PC5</th>\n",
       "      <th>PC6</th>\n",
       "      <th>PC7</th>\n",
       "    </tr>\n",
       "  </thead>\n",
       "  <tbody>\n",
       "    <tr>\n",
       "      <th>0</th>\n",
       "      <td>-0.703956</td>\n",
       "      <td>-1.658901</td>\n",
       "      <td>1.979684</td>\n",
       "      <td>-0.303928</td>\n",
       "      <td>0.543881</td>\n",
       "      <td>-0.501762</td>\n",
       "      <td>0.321437</td>\n",
       "    </tr>\n",
       "    <tr>\n",
       "      <th>1</th>\n",
       "      <td>-0.767843</td>\n",
       "      <td>-1.640430</td>\n",
       "      <td>1.994571</td>\n",
       "      <td>-0.287022</td>\n",
       "      <td>0.496292</td>\n",
       "      <td>-0.603101</td>\n",
       "      <td>0.281884</td>\n",
       "    </tr>\n",
       "    <tr>\n",
       "      <th>2</th>\n",
       "      <td>-0.443293</td>\n",
       "      <td>-1.726802</td>\n",
       "      <td>1.999478</td>\n",
       "      <td>-0.354337</td>\n",
       "      <td>0.650628</td>\n",
       "      <td>-0.570028</td>\n",
       "      <td>0.048223</td>\n",
       "    </tr>\n",
       "    <tr>\n",
       "      <th>3</th>\n",
       "      <td>-0.623942</td>\n",
       "      <td>-1.696974</td>\n",
       "      <td>1.975807</td>\n",
       "      <td>-0.335790</td>\n",
       "      <td>0.530692</td>\n",
       "      <td>-0.544026</td>\n",
       "      <td>0.256051</td>\n",
       "    </tr>\n",
       "    <tr>\n",
       "      <th>4</th>\n",
       "      <td>-0.746309</td>\n",
       "      <td>-1.647522</td>\n",
       "      <td>1.972247</td>\n",
       "      <td>-0.338139</td>\n",
       "      <td>0.390524</td>\n",
       "      <td>-0.655458</td>\n",
       "      <td>0.333898</td>\n",
       "    </tr>\n",
       "    <tr>\n",
       "      <th>...</th>\n",
       "      <td>...</td>\n",
       "      <td>...</td>\n",
       "      <td>...</td>\n",
       "      <td>...</td>\n",
       "      <td>...</td>\n",
       "      <td>...</td>\n",
       "      <td>...</td>\n",
       "    </tr>\n",
       "    <tr>\n",
       "      <th>18244</th>\n",
       "      <td>-1.863287</td>\n",
       "      <td>2.236957</td>\n",
       "      <td>-1.496502</td>\n",
       "      <td>0.265687</td>\n",
       "      <td>0.480741</td>\n",
       "      <td>0.149885</td>\n",
       "      <td>0.186065</td>\n",
       "    </tr>\n",
       "    <tr>\n",
       "      <th>18245</th>\n",
       "      <td>-1.943963</td>\n",
       "      <td>2.187304</td>\n",
       "      <td>-1.463546</td>\n",
       "      <td>0.319250</td>\n",
       "      <td>0.509571</td>\n",
       "      <td>0.078498</td>\n",
       "      <td>-0.004349</td>\n",
       "    </tr>\n",
       "    <tr>\n",
       "      <th>18246</th>\n",
       "      <td>-1.538161</td>\n",
       "      <td>1.810201</td>\n",
       "      <td>-1.350274</td>\n",
       "      <td>0.756406</td>\n",
       "      <td>0.993768</td>\n",
       "      <td>-0.532910</td>\n",
       "      <td>-0.761769</td>\n",
       "    </tr>\n",
       "    <tr>\n",
       "      <th>18247</th>\n",
       "      <td>-1.425593</td>\n",
       "      <td>1.813612</td>\n",
       "      <td>-1.362759</td>\n",
       "      <td>0.703482</td>\n",
       "      <td>1.018139</td>\n",
       "      <td>-0.476726</td>\n",
       "      <td>-0.758394</td>\n",
       "    </tr>\n",
       "    <tr>\n",
       "      <th>18248</th>\n",
       "      <td>-1.499607</td>\n",
       "      <td>1.829935</td>\n",
       "      <td>-1.386847</td>\n",
       "      <td>0.740639</td>\n",
       "      <td>1.099963</td>\n",
       "      <td>-0.221959</td>\n",
       "      <td>-0.534576</td>\n",
       "    </tr>\n",
       "  </tbody>\n",
       "</table>\n",
       "<p>18249 rows × 7 columns</p>\n",
       "</div>"
      ],
      "text/plain": [
       "            PC1       PC2       PC3       PC4       PC5       PC6       PC7\n",
       "0     -0.703956 -1.658901  1.979684 -0.303928  0.543881 -0.501762  0.321437\n",
       "1     -0.767843 -1.640430  1.994571 -0.287022  0.496292 -0.603101  0.281884\n",
       "2     -0.443293 -1.726802  1.999478 -0.354337  0.650628 -0.570028  0.048223\n",
       "3     -0.623942 -1.696974  1.975807 -0.335790  0.530692 -0.544026  0.256051\n",
       "4     -0.746309 -1.647522  1.972247 -0.338139  0.390524 -0.655458  0.333898\n",
       "...         ...       ...       ...       ...       ...       ...       ...\n",
       "18244 -1.863287  2.236957 -1.496502  0.265687  0.480741  0.149885  0.186065\n",
       "18245 -1.943963  2.187304 -1.463546  0.319250  0.509571  0.078498 -0.004349\n",
       "18246 -1.538161  1.810201 -1.350274  0.756406  0.993768 -0.532910 -0.761769\n",
       "18247 -1.425593  1.813612 -1.362759  0.703482  1.018139 -0.476726 -0.758394\n",
       "18248 -1.499607  1.829935 -1.386847  0.740639  1.099963 -0.221959 -0.534576\n",
       "\n",
       "[18249 rows x 7 columns]"
      ]
     },
     "execution_count": 30,
     "metadata": {},
     "output_type": "execute_result"
    }
   ],
   "source": [
    "pca = PCA (n_components = 7)\n",
    "new_pcomp_reg = pca.fit_transform(x_reg_scaled)\n",
    "princi_comp_reg = pd.DataFrame(new_pcomp_reg, columns = ['PC1','PC2','PC3','PC4','PC5','PC6','PC7'])\n",
    "princi_comp_reg"
   ]
  },
  {
   "cell_type": "code",
   "execution_count": 31,
   "id": "9f082771",
   "metadata": {},
   "outputs": [
    {
     "data": {
      "text/plain": [
       "PC1    0.187722\n",
       "PC2    0.116268\n",
       "PC3    0.224175\n",
       "PC4   -0.000189\n",
       "PC5    0.489414\n",
       "PC6    0.121402\n",
       "PC7    0.182019\n",
       "dtype: float64"
      ]
     },
     "execution_count": 31,
     "metadata": {},
     "output_type": "execute_result"
    }
   ],
   "source": [
    "princi_comp_reg.skew()"
   ]
  },
  {
   "cell_type": "markdown",
   "id": "74178e0b",
   "metadata": {},
   "source": [
    "Not using Dimension Reduction is giving better accuracy, therefore I'll be avoiding it while model training and testing"
   ]
  },
  {
   "cell_type": "code",
   "execution_count": 47,
   "id": "84a3350c",
   "metadata": {},
   "outputs": [],
   "source": [
    "x_train_reg,x_test_reg,y_train_reg,y_test_reg = train_test_split(x_reg_scaled,y_reg,test_size=0.25,random_state=42)"
   ]
  },
  {
   "cell_type": "code",
   "execution_count": 48,
   "id": "46db52f9",
   "metadata": {},
   "outputs": [
    {
     "data": {
      "text/plain": [
       "LinearRegression()"
      ]
     },
     "execution_count": 48,
     "metadata": {},
     "output_type": "execute_result"
    }
   ],
   "source": [
    "lr = LinearRegression()\n",
    "lr.fit(x_train_reg,y_train_reg)"
   ]
  },
  {
   "cell_type": "code",
   "execution_count": 49,
   "id": "66656962",
   "metadata": {},
   "outputs": [],
   "source": [
    "from sklearn.metrics import mean_absolute_error, mean_squared_error"
   ]
  },
  {
   "cell_type": "code",
   "execution_count": 50,
   "id": "d54b7b80",
   "metadata": {},
   "outputs": [],
   "source": [
    "def metric_score(clf,x_train_reg,x_test_reg,y_train_reg,y_test_reg,train = True):\n",
    "    if train:\n",
    "        y_pred_reg = clf.predict(x_train_reg)\n",
    "        print('\\n ======TRAINING RESULT======')\n",
    "        print(f'Accuracy Score: {r2_score(y_train_reg,y_pred_reg)*100:.2f}%')\n",
    "        \n",
    "    elif train == False:\n",
    "        pred_reg = clf.predict(x_test_reg)\n",
    "        print('\\n ======TESTING RESULT======')\n",
    "        print(f'Accuracy Score: {r2_score(y_test_reg,pred_reg)*100:.2f}%')\n",
    "        print('Cross Validation Score = ',cross_val_score(clf,x_reg,y_reg,cv=5).mean())\n",
    "        print('MAE = ',mean_absolute_error(y_test_reg,pred_reg))\n",
    "        print('MSE = ',mean_squared_error(y_test_reg,pred_reg))\n",
    "        print('RMSE = ',np.sqrt(mean_squared_error(y_test_reg,pred_reg)))"
   ]
  },
  {
   "cell_type": "code",
   "execution_count": 51,
   "id": "c965c729",
   "metadata": {},
   "outputs": [
    {
     "name": "stdout",
     "output_type": "stream",
     "text": [
      "\n",
      " ======TRAINING RESULT======\n",
      "Accuracy Score: 51.76%\n",
      "\n",
      " ======TESTING RESULT======\n",
      "Accuracy Score: 50.12%\n",
      "Cross Validation Score =  -8.26881715636867\n",
      "MAE =  0.2217428614223651\n",
      "MSE =  0.08045442670882424\n",
      "RMSE =  0.2836448954393931\n"
     ]
    }
   ],
   "source": [
    "metric_score(lr,x_train_reg,x_test_reg,y_train_reg,y_test_reg,train = True)\n",
    "metric_score(lr,x_train_reg,x_test_reg,y_train_reg,y_test_reg,train = False)"
   ]
  },
  {
   "cell_type": "markdown",
   "id": "eaa54edb",
   "metadata": {},
   "source": [
    "We can note that we are getting training accuracy of 51.7% and Testing accuracy of 50.12% with Linear Regression model\n",
    "\n",
    "We should now test the data on other models as well to check which model is giving us the best result"
   ]
  },
  {
   "cell_type": "code",
   "execution_count": 52,
   "id": "eb8c7897",
   "metadata": {},
   "outputs": [],
   "source": [
    "knn = KNeighborsRegressor()\n",
    "dec = DecisionTreeRegressor()\n",
    "ran = RandomForestRegressor()\n",
    "xgb = XGBRegressor()"
   ]
  },
  {
   "cell_type": "code",
   "execution_count": 53,
   "id": "0845bfc1",
   "metadata": {},
   "outputs": [
    {
     "data": {
      "text/plain": [
       "XGBRegressor(base_score=0.5, booster='gbtree', callbacks=None,\n",
       "             colsample_bylevel=1, colsample_bynode=1, colsample_bytree=1,\n",
       "             early_stopping_rounds=None, enable_categorical=False,\n",
       "             eval_metric=None, feature_types=None, gamma=0, gpu_id=-1,\n",
       "             grow_policy='depthwise', importance_type=None,\n",
       "             interaction_constraints='', learning_rate=0.300000012, max_bin=256,\n",
       "             max_cat_threshold=64, max_cat_to_onehot=4, max_delta_step=0,\n",
       "             max_depth=6, max_leaves=0, min_child_weight=1, missing=nan,\n",
       "             monotone_constraints='()', n_estimators=100, n_jobs=0,\n",
       "             num_parallel_tree=1, predictor='auto', random_state=0, ...)"
      ]
     },
     "execution_count": 53,
     "metadata": {},
     "output_type": "execute_result"
    }
   ],
   "source": [
    "#TRAINING THE MODELS\n",
    "knn.fit(x_train_reg,y_train_reg)\n",
    "dec.fit(x_train_reg,y_train_reg)\n",
    "ran.fit(x_train_reg,y_train_reg)\n",
    "xgb.fit(x_train_reg,y_train_reg)"
   ]
  },
  {
   "cell_type": "markdown",
   "id": "f3907ff9",
   "metadata": {},
   "source": [
    "Testing accuracies for other models"
   ]
  },
  {
   "cell_type": "code",
   "execution_count": 54,
   "id": "2d43b3a3",
   "metadata": {},
   "outputs": [
    {
     "name": "stdout",
     "output_type": "stream",
     "text": [
      "0.5012089502944561\n",
      "0.8296531242882104\n",
      "0.6801832055748773\n",
      "0.8431423384846746\n",
      "0.8242887883774128\n"
     ]
    }
   ],
   "source": [
    "print(lr.score(x_test_reg,y_test_reg))\n",
    "print(knn.score(x_test_reg,y_test_reg))\n",
    "print(dec.score(x_test_reg,y_test_reg))\n",
    "print(ran.score(x_test_reg,y_test_reg))\n",
    "print(xgb.score(x_test_reg,y_test_reg))"
   ]
  },
  {
   "cell_type": "markdown",
   "id": "db88e0da",
   "metadata": {},
   "source": [
    "We can note, KNN, Random Forest and XGB is by far our best performing model.\n",
    "\n",
    "Now we need to check for overfitting\n",
    "\n",
    "I'll be using Ridge regularization for this"
   ]
  },
  {
   "cell_type": "code",
   "execution_count": 55,
   "id": "15a44c64",
   "metadata": {},
   "outputs": [],
   "source": [
    "from sklearn.linear_model import Ridge, RidgeCV"
   ]
  },
  {
   "cell_type": "code",
   "execution_count": 57,
   "id": "27d603d8",
   "metadata": {},
   "outputs": [
    {
     "data": {
      "text/plain": [
       "RidgeCV(alphas=array([1.000e-03, 1.100e-02, 2.100e-02, 3.100e-02, 4.100e-02, 5.100e-02,\n",
       "       6.100e-02, 7.100e-02, 8.100e-02, 9.100e-02, 1.010e-01, 1.110e-01,\n",
       "       1.210e-01, 1.310e-01, 1.410e-01, 1.510e-01, 1.610e-01, 1.710e-01,\n",
       "       1.810e-01, 1.910e-01, 2.010e-01, 2.110e-01, 2.210e-01, 2.310e-01,\n",
       "       2.410e-01, 2.510e-01, 2.610e-01, 2.710e-01, 2.810e-01, 2.910e-01,\n",
       "       3.010e-01, 3.110e-01, 3.210e-0...\n",
       "       9.661e+00, 9.671e+00, 9.681e+00, 9.691e+00, 9.701e+00, 9.711e+00,\n",
       "       9.721e+00, 9.731e+00, 9.741e+00, 9.751e+00, 9.761e+00, 9.771e+00,\n",
       "       9.781e+00, 9.791e+00, 9.801e+00, 9.811e+00, 9.821e+00, 9.831e+00,\n",
       "       9.841e+00, 9.851e+00, 9.861e+00, 9.871e+00, 9.881e+00, 9.891e+00,\n",
       "       9.901e+00, 9.911e+00, 9.921e+00, 9.931e+00, 9.941e+00, 9.951e+00,\n",
       "       9.961e+00, 9.971e+00, 9.981e+00, 9.991e+00]),\n",
       "        normalize=True)"
      ]
     },
     "execution_count": 57,
     "metadata": {},
     "output_type": "execute_result"
    }
   ],
   "source": [
    "ridgecv = RidgeCV(alphas = np.arange(0.001,10,0.01),normalize=True)\n",
    "ridgecv.fit(x_train_reg,y_train_reg)"
   ]
  },
  {
   "cell_type": "code",
   "execution_count": 58,
   "id": "d9475c3b",
   "metadata": {},
   "outputs": [
    {
     "data": {
      "text/plain": [
       "0.001"
      ]
     },
     "execution_count": 58,
     "metadata": {},
     "output_type": "execute_result"
    }
   ],
   "source": [
    "ridgecv.alpha_"
   ]
  },
  {
   "cell_type": "code",
   "execution_count": 59,
   "id": "1287cfce",
   "metadata": {},
   "outputs": [
    {
     "data": {
      "text/plain": [
       "Ridge(alpha=0.001)"
      ]
     },
     "execution_count": 59,
     "metadata": {},
     "output_type": "execute_result"
    }
   ],
   "source": [
    "ridge_model = Ridge(alpha=ridgecv.alpha_)\n",
    "ridge_model.fit(x_train_reg,y_train_reg)"
   ]
  },
  {
   "cell_type": "code",
   "execution_count": 60,
   "id": "6901b22d",
   "metadata": {},
   "outputs": [
    {
     "data": {
      "text/plain": [
       "0.501208951683275"
      ]
     },
     "execution_count": 60,
     "metadata": {},
     "output_type": "execute_result"
    }
   ],
   "source": [
    "ridge_model.score(x_test_reg,y_test_reg)"
   ]
  },
  {
   "cell_type": "markdown",
   "id": "28cf2f83",
   "metadata": {},
   "source": [
    "We get very similar score to our R2 score, thus we can conclude, model is not overfitting."
   ]
  },
  {
   "cell_type": "markdown",
   "id": "bfbaea74",
   "metadata": {},
   "source": [
    "Now, we perform Hyper Parameter Tuning on our best performing model, i.e., Random Forest Model"
   ]
  },
  {
   "cell_type": "code",
   "execution_count": 69,
   "id": "28cd65e3",
   "metadata": {},
   "outputs": [],
   "source": [
    "params = {'n_estimators':[2,50],\n",
    "         'max_depth':[2,20],\n",
    "         'min_samples_split':[2,20],\n",
    "         'min_samples_leaf':[2,20]}"
   ]
  },
  {
   "cell_type": "code",
   "execution_count": 70,
   "id": "77fab016",
   "metadata": {},
   "outputs": [
    {
     "data": {
      "text/plain": [
       "GridSearchCV(estimator=RandomForestRegressor(),\n",
       "             param_grid={'max_depth': [2, 20], 'min_samples_leaf': [2, 20],\n",
       "                         'min_samples_split': [2, 20],\n",
       "                         'n_estimators': [2, 50]})"
      ]
     },
     "execution_count": 70,
     "metadata": {},
     "output_type": "execute_result"
    }
   ],
   "source": [
    "grid_reg = GridSearchCV(ran, param_grid = params)\n",
    "grid_reg.fit(x_train_reg,y_train_reg)"
   ]
  },
  {
   "cell_type": "code",
   "execution_count": 71,
   "id": "97eb80e3",
   "metadata": {},
   "outputs": [
    {
     "name": "stdout",
     "output_type": "stream",
     "text": [
      "best parameters:  {'max_depth': 20, 'min_samples_leaf': 2, 'min_samples_split': 2, 'n_estimators': 50}\n"
     ]
    }
   ],
   "source": [
    "print('best parameters: ',grid_reg.best_params_)"
   ]
  },
  {
   "cell_type": "code",
   "execution_count": 72,
   "id": "c83479fc",
   "metadata": {},
   "outputs": [
    {
     "data": {
      "text/plain": [
       "RandomForestRegressor(max_depth=20, min_samples_leaf=2, n_estimators=50)"
      ]
     },
     "execution_count": 72,
     "metadata": {},
     "output_type": "execute_result"
    }
   ],
   "source": [
    "ran_grid = grid_reg.best_estimator_\n",
    "ran_grid.fit(x_train_reg,y_train_reg)"
   ]
  },
  {
   "cell_type": "code",
   "execution_count": 73,
   "id": "6d75d8e0",
   "metadata": {},
   "outputs": [
    {
     "name": "stdout",
     "output_type": "stream",
     "text": [
      "\n",
      " ======TRAINING RESULT======\n",
      "Accuracy Score: 96.23%\n",
      "\n",
      " ======TESTING RESULT======\n",
      "Accuracy Score: 83.83%\n",
      "Cross Validation Score =  0.23452875059008446\n",
      "MAE =  0.11383248319830906\n",
      "MSE =  0.02607639952529247\n",
      "RMSE =  0.16148188605937344\n"
     ]
    }
   ],
   "source": [
    "metric_score(ran_grid,x_train_reg,x_test_reg,y_train_reg,y_test_reg,train = True)\n",
    "metric_score(ran_grid,x_train_reg,x_test_reg,y_train_reg,y_test_reg,train = False)"
   ]
  },
  {
   "cell_type": "code",
   "execution_count": 74,
   "id": "296b0b5e",
   "metadata": {},
   "outputs": [
    {
     "name": "stdout",
     "output_type": "stream",
     "text": [
      "\n",
      " ======TRAINING RESULT======\n",
      "Accuracy Score: 97.79%\n",
      "\n",
      " ======TESTING RESULT======\n",
      "Accuracy Score: 84.31%\n",
      "Cross Validation Score =  0.2369009808996724\n",
      "MAE =  0.11178422090729782\n",
      "MSE =  0.02530096167433706\n",
      "RMSE =  0.15906276017452062\n"
     ]
    }
   ],
   "source": [
    "metric_score(ran,x_train_reg,x_test_reg,y_train_reg,y_test_reg,train = True)\n",
    "metric_score(ran,x_train_reg,x_test_reg,y_train_reg,y_test_reg,train = False)"
   ]
  },
  {
   "cell_type": "markdown",
   "id": "4b3f865a",
   "metadata": {},
   "source": [
    "We get better accuracy without tuning, thus we'll keep our original Random Forest Model"
   ]
  },
  {
   "cell_type": "markdown",
   "id": "1bc32f48",
   "metadata": {},
   "source": [
    "Now, we move to our classification model"
   ]
  },
  {
   "cell_type": "code",
   "execution_count": 75,
   "id": "33b7d012",
   "metadata": {},
   "outputs": [],
   "source": [
    "x_cl = df.drop(columns = ['region'])\n",
    "y_cl = df.region"
   ]
  },
  {
   "cell_type": "code",
   "execution_count": 76,
   "id": "60d8a603",
   "metadata": {},
   "outputs": [
    {
     "data": {
      "text/html": [
       "<div>\n",
       "<style scoped>\n",
       "    .dataframe tbody tr th:only-of-type {\n",
       "        vertical-align: middle;\n",
       "    }\n",
       "\n",
       "    .dataframe tbody tr th {\n",
       "        vertical-align: top;\n",
       "    }\n",
       "\n",
       "    .dataframe thead th {\n",
       "        text-align: right;\n",
       "    }\n",
       "</style>\n",
       "<table border=\"1\" class=\"dataframe\">\n",
       "  <thead>\n",
       "    <tr style=\"text-align: right;\">\n",
       "      <th></th>\n",
       "      <th>AveragePrice</th>\n",
       "      <th>Total Volume</th>\n",
       "      <th>4046</th>\n",
       "      <th>4225</th>\n",
       "      <th>4770</th>\n",
       "      <th>Total Bags</th>\n",
       "      <th>Large Bags</th>\n",
       "      <th>XLarge Bags</th>\n",
       "      <th>type</th>\n",
       "      <th>year</th>\n",
       "    </tr>\n",
       "  </thead>\n",
       "  <tbody>\n",
       "    <tr>\n",
       "      <th>0</th>\n",
       "      <td>1.33</td>\n",
       "      <td>64236.62</td>\n",
       "      <td>1036.74</td>\n",
       "      <td>54454.85</td>\n",
       "      <td>48.16</td>\n",
       "      <td>8696.87</td>\n",
       "      <td>93.25</td>\n",
       "      <td>0.0</td>\n",
       "      <td>0</td>\n",
       "      <td>2015</td>\n",
       "    </tr>\n",
       "    <tr>\n",
       "      <th>1</th>\n",
       "      <td>1.35</td>\n",
       "      <td>54876.98</td>\n",
       "      <td>674.28</td>\n",
       "      <td>44638.81</td>\n",
       "      <td>58.33</td>\n",
       "      <td>9505.56</td>\n",
       "      <td>97.49</td>\n",
       "      <td>0.0</td>\n",
       "      <td>0</td>\n",
       "      <td>2015</td>\n",
       "    </tr>\n",
       "    <tr>\n",
       "      <th>2</th>\n",
       "      <td>0.93</td>\n",
       "      <td>118220.22</td>\n",
       "      <td>794.70</td>\n",
       "      <td>109149.67</td>\n",
       "      <td>130.50</td>\n",
       "      <td>8145.35</td>\n",
       "      <td>103.14</td>\n",
       "      <td>0.0</td>\n",
       "      <td>0</td>\n",
       "      <td>2015</td>\n",
       "    </tr>\n",
       "    <tr>\n",
       "      <th>3</th>\n",
       "      <td>1.08</td>\n",
       "      <td>78992.15</td>\n",
       "      <td>1132.00</td>\n",
       "      <td>71976.41</td>\n",
       "      <td>72.58</td>\n",
       "      <td>5811.16</td>\n",
       "      <td>133.76</td>\n",
       "      <td>0.0</td>\n",
       "      <td>0</td>\n",
       "      <td>2015</td>\n",
       "    </tr>\n",
       "    <tr>\n",
       "      <th>4</th>\n",
       "      <td>1.28</td>\n",
       "      <td>51039.60</td>\n",
       "      <td>941.48</td>\n",
       "      <td>43838.39</td>\n",
       "      <td>75.78</td>\n",
       "      <td>6183.95</td>\n",
       "      <td>197.69</td>\n",
       "      <td>0.0</td>\n",
       "      <td>0</td>\n",
       "      <td>2015</td>\n",
       "    </tr>\n",
       "    <tr>\n",
       "      <th>...</th>\n",
       "      <td>...</td>\n",
       "      <td>...</td>\n",
       "      <td>...</td>\n",
       "      <td>...</td>\n",
       "      <td>...</td>\n",
       "      <td>...</td>\n",
       "      <td>...</td>\n",
       "      <td>...</td>\n",
       "      <td>...</td>\n",
       "      <td>...</td>\n",
       "    </tr>\n",
       "    <tr>\n",
       "      <th>18244</th>\n",
       "      <td>1.63</td>\n",
       "      <td>17074.83</td>\n",
       "      <td>2046.96</td>\n",
       "      <td>1529.20</td>\n",
       "      <td>0.00</td>\n",
       "      <td>13498.67</td>\n",
       "      <td>431.85</td>\n",
       "      <td>0.0</td>\n",
       "      <td>1</td>\n",
       "      <td>2018</td>\n",
       "    </tr>\n",
       "    <tr>\n",
       "      <th>18245</th>\n",
       "      <td>1.71</td>\n",
       "      <td>13888.04</td>\n",
       "      <td>1191.70</td>\n",
       "      <td>3431.50</td>\n",
       "      <td>0.00</td>\n",
       "      <td>9264.84</td>\n",
       "      <td>324.80</td>\n",
       "      <td>0.0</td>\n",
       "      <td>1</td>\n",
       "      <td>2018</td>\n",
       "    </tr>\n",
       "    <tr>\n",
       "      <th>18246</th>\n",
       "      <td>1.87</td>\n",
       "      <td>13766.76</td>\n",
       "      <td>1191.92</td>\n",
       "      <td>2452.79</td>\n",
       "      <td>727.94</td>\n",
       "      <td>9394.11</td>\n",
       "      <td>42.31</td>\n",
       "      <td>0.0</td>\n",
       "      <td>1</td>\n",
       "      <td>2018</td>\n",
       "    </tr>\n",
       "    <tr>\n",
       "      <th>18247</th>\n",
       "      <td>1.93</td>\n",
       "      <td>16205.22</td>\n",
       "      <td>1527.63</td>\n",
       "      <td>2981.04</td>\n",
       "      <td>727.01</td>\n",
       "      <td>10969.54</td>\n",
       "      <td>50.00</td>\n",
       "      <td>0.0</td>\n",
       "      <td>1</td>\n",
       "      <td>2018</td>\n",
       "    </tr>\n",
       "    <tr>\n",
       "      <th>18248</th>\n",
       "      <td>1.62</td>\n",
       "      <td>17489.58</td>\n",
       "      <td>2894.77</td>\n",
       "      <td>2356.13</td>\n",
       "      <td>224.53</td>\n",
       "      <td>12014.15</td>\n",
       "      <td>26.01</td>\n",
       "      <td>0.0</td>\n",
       "      <td>1</td>\n",
       "      <td>2018</td>\n",
       "    </tr>\n",
       "  </tbody>\n",
       "</table>\n",
       "<p>18249 rows × 10 columns</p>\n",
       "</div>"
      ],
      "text/plain": [
       "       AveragePrice  Total Volume     4046       4225    4770  Total Bags  \\\n",
       "0              1.33      64236.62  1036.74   54454.85   48.16     8696.87   \n",
       "1              1.35      54876.98   674.28   44638.81   58.33     9505.56   \n",
       "2              0.93     118220.22   794.70  109149.67  130.50     8145.35   \n",
       "3              1.08      78992.15  1132.00   71976.41   72.58     5811.16   \n",
       "4              1.28      51039.60   941.48   43838.39   75.78     6183.95   \n",
       "...             ...           ...      ...        ...     ...         ...   \n",
       "18244          1.63      17074.83  2046.96    1529.20    0.00    13498.67   \n",
       "18245          1.71      13888.04  1191.70    3431.50    0.00     9264.84   \n",
       "18246          1.87      13766.76  1191.92    2452.79  727.94     9394.11   \n",
       "18247          1.93      16205.22  1527.63    2981.04  727.01    10969.54   \n",
       "18248          1.62      17489.58  2894.77    2356.13  224.53    12014.15   \n",
       "\n",
       "       Large Bags  XLarge Bags  type  year  \n",
       "0           93.25          0.0     0  2015  \n",
       "1           97.49          0.0     0  2015  \n",
       "2          103.14          0.0     0  2015  \n",
       "3          133.76          0.0     0  2015  \n",
       "4          197.69          0.0     0  2015  \n",
       "...           ...          ...   ...   ...  \n",
       "18244      431.85          0.0     1  2018  \n",
       "18245      324.80          0.0     1  2018  \n",
       "18246       42.31          0.0     1  2018  \n",
       "18247       50.00          0.0     1  2018  \n",
       "18248       26.01          0.0     1  2018  \n",
       "\n",
       "[18249 rows x 10 columns]"
      ]
     },
     "execution_count": 76,
     "metadata": {},
     "output_type": "execute_result"
    }
   ],
   "source": [
    "x_cl"
   ]
  },
  {
   "cell_type": "code",
   "execution_count": 77,
   "id": "76dc085e",
   "metadata": {},
   "outputs": [
    {
     "data": {
      "text/plain": [
       "0         0\n",
       "1         0\n",
       "2         0\n",
       "3         0\n",
       "4         0\n",
       "         ..\n",
       "18244    53\n",
       "18245    53\n",
       "18246    53\n",
       "18247    53\n",
       "18248    53\n",
       "Name: region, Length: 18249, dtype: int32"
      ]
     },
     "execution_count": 77,
     "metadata": {},
     "output_type": "execute_result"
    }
   ],
   "source": [
    "y_cl"
   ]
  },
  {
   "cell_type": "markdown",
   "id": "db50ea89",
   "metadata": {},
   "source": [
    "Use Power Transformer to reduce skewness"
   ]
  },
  {
   "cell_type": "code",
   "execution_count": 78,
   "id": "f3538a3d",
   "metadata": {},
   "outputs": [
    {
     "data": {
      "text/plain": [
       "array([[-0.08624822, -0.08660524, -0.65861896, ..., -0.69984934,\n",
       "        -0.99983562, -1.22189489],\n",
       "       [-0.03402196, -0.15574567, -0.77686953, ..., -0.69984934,\n",
       "        -0.99983562, -1.22189489],\n",
       "       [-1.27393796,  0.17932662, -0.73194656, ..., -0.69984934,\n",
       "        -0.99983562, -1.22189489],\n",
       "       ...,\n",
       "       [ 1.14779044, -0.77150535, -0.61983119, ..., -0.69984934,\n",
       "         1.00016441,  1.96854784],\n",
       "       [ 1.2658763 , -0.69807719, -0.55028196, ..., -0.69984934,\n",
       "         1.00016441,  1.96854784],\n",
       "       [ 0.61828746, -0.66380937, -0.36790819, ..., -0.69984934,\n",
       "         1.00016441,  1.96854784]])"
      ]
     },
     "execution_count": 78,
     "metadata": {},
     "output_type": "execute_result"
    }
   ],
   "source": [
    "x_cl_scaled = scaler.fit_transform(x_cl.values)\n",
    "x_cl_scaled"
   ]
  },
  {
   "cell_type": "markdown",
   "id": "16875b08",
   "metadata": {},
   "source": [
    "Now, we use PCA to perform dimension reduction for our model"
   ]
  },
  {
   "cell_type": "code",
   "execution_count": 79,
   "id": "d226b9e6",
   "metadata": {},
   "outputs": [],
   "source": [
    "pca = PCA()"
   ]
  },
  {
   "cell_type": "code",
   "execution_count": 80,
   "id": "78c40bdd",
   "metadata": {},
   "outputs": [
    {
     "data": {
      "text/plain": [
       "array([[-0.5465299 , -1.5272493 , -0.24984941, ...,  0.78647089,\n",
       "        -0.04530809,  0.059204  ],\n",
       "       [-0.62179081, -1.50171118, -0.27143514, ...,  0.75168539,\n",
       "        -0.13377639,  0.03891165],\n",
       "       [ 0.01660204, -1.85719603,  0.48670009, ...,  0.9344559 ,\n",
       "         0.31599729,  0.19749426],\n",
       "       ...,\n",
       "       [-1.87981015,  1.84586367, -0.57231047, ..., -0.95054843,\n",
       "         0.22736898, -0.05006736],\n",
       "       [-1.80227154,  1.88636075, -0.65509436, ..., -0.93372761,\n",
       "         0.19619353, -0.04343314],\n",
       "       [-1.70306075,  1.72946397, -0.1560548 , ..., -0.8165804 ,\n",
       "         0.24045411, -0.07237529]])"
      ]
     },
     "execution_count": 80,
     "metadata": {},
     "output_type": "execute_result"
    }
   ],
   "source": [
    "pca.fit_transform(x_cl_scaled)"
   ]
  },
  {
   "cell_type": "code",
   "execution_count": 81,
   "id": "6c12fced",
   "metadata": {},
   "outputs": [
    {
     "data": {
      "image/png": "[encoded data removed]",
      "text/plain": [
       "<Figure size 432x288 with 1 Axes>"
      ]
     },
     "metadata": {
      "needs_background": "light"
     },
     "output_type": "display_data"
    }
   ],
   "source": [
    "plt.figure()\n",
    "plt.plot(np.cumsum(pca.explained_variance_ratio_))\n",
    "plt.xlabel('Principal Components')\n",
    "plt.ylabel('Variance Covered')\n",
    "plt.show()"
   ]
  },
  {
   "cell_type": "markdown",
   "id": "8ebe7231",
   "metadata": {},
   "source": [
    "We can see, we only need about 7 components to cover about 99% of variance"
   ]
  },
  {
   "cell_type": "code",
   "execution_count": 82,
   "id": "37f40734",
   "metadata": {},
   "outputs": [
    {
     "data": {
      "text/html": [
       "<div>\n",
       "<style scoped>\n",
       "    .dataframe tbody tr th:only-of-type {\n",
       "        vertical-align: middle;\n",
       "    }\n",
       "\n",
       "    .dataframe tbody tr th {\n",
       "        vertical-align: top;\n",
       "    }\n",
       "\n",
       "    .dataframe thead th {\n",
       "        text-align: right;\n",
       "    }\n",
       "</style>\n",
       "<table border=\"1\" class=\"dataframe\">\n",
       "  <thead>\n",
       "    <tr style=\"text-align: right;\">\n",
       "      <th></th>\n",
       "      <th>PC1</th>\n",
       "      <th>PC2</th>\n",
       "      <th>PC3</th>\n",
       "      <th>PC4</th>\n",
       "      <th>PC5</th>\n",
       "      <th>PC6</th>\n",
       "      <th>PC7</th>\n",
       "    </tr>\n",
       "  </thead>\n",
       "  <tbody>\n",
       "    <tr>\n",
       "      <th>0</th>\n",
       "      <td>-0.546530</td>\n",
       "      <td>-1.527249</td>\n",
       "      <td>-0.249849</td>\n",
       "      <td>0.201101</td>\n",
       "      <td>0.589754</td>\n",
       "      <td>-0.706975</td>\n",
       "      <td>0.503611</td>\n",
       "    </tr>\n",
       "    <tr>\n",
       "      <th>1</th>\n",
       "      <td>-0.621791</td>\n",
       "      <td>-1.501711</td>\n",
       "      <td>-0.271435</td>\n",
       "      <td>0.217379</td>\n",
       "      <td>0.542602</td>\n",
       "      <td>-0.812631</td>\n",
       "      <td>0.471668</td>\n",
       "    </tr>\n",
       "    <tr>\n",
       "      <th>2</th>\n",
       "      <td>0.016602</td>\n",
       "      <td>-1.857196</td>\n",
       "      <td>0.486700</td>\n",
       "      <td>0.629894</td>\n",
       "      <td>0.788918</td>\n",
       "      <td>-0.812386</td>\n",
       "      <td>0.008560</td>\n",
       "    </tr>\n",
       "    <tr>\n",
       "      <th>3</th>\n",
       "      <td>-0.283589</td>\n",
       "      <td>-1.730909</td>\n",
       "      <td>0.229284</td>\n",
       "      <td>0.475413</td>\n",
       "      <td>0.640097</td>\n",
       "      <td>-0.740117</td>\n",
       "      <td>0.323254</td>\n",
       "    </tr>\n",
       "    <tr>\n",
       "      <th>4</th>\n",
       "      <td>-0.552081</td>\n",
       "      <td>-1.556702</td>\n",
       "      <td>-0.099042</td>\n",
       "      <td>0.264496</td>\n",
       "      <td>0.458363</td>\n",
       "      <td>-0.835840</td>\n",
       "      <td>0.525685</td>\n",
       "    </tr>\n",
       "    <tr>\n",
       "      <th>...</th>\n",
       "      <td>...</td>\n",
       "      <td>...</td>\n",
       "      <td>...</td>\n",
       "      <td>...</td>\n",
       "      <td>...</td>\n",
       "      <td>...</td>\n",
       "      <td>...</td>\n",
       "    </tr>\n",
       "    <tr>\n",
       "      <th>18244</th>\n",
       "      <td>-2.058523</td>\n",
       "      <td>2.055592</td>\n",
       "      <td>0.467718</td>\n",
       "      <td>0.050707</td>\n",
       "      <td>0.510176</td>\n",
       "      <td>0.394916</td>\n",
       "      <td>0.073177</td>\n",
       "    </tr>\n",
       "    <tr>\n",
       "      <th>18245</th>\n",
       "      <td>-2.183615</td>\n",
       "      <td>2.057949</td>\n",
       "      <td>0.249108</td>\n",
       "      <td>-0.014333</td>\n",
       "      <td>0.503092</td>\n",
       "      <td>0.253419</td>\n",
       "      <td>0.050778</td>\n",
       "    </tr>\n",
       "    <tr>\n",
       "      <th>18246</th>\n",
       "      <td>-1.879810</td>\n",
       "      <td>1.845864</td>\n",
       "      <td>-0.572310</td>\n",
       "      <td>-0.012654</td>\n",
       "      <td>0.894139</td>\n",
       "      <td>-0.416399</td>\n",
       "      <td>-0.593439</td>\n",
       "    </tr>\n",
       "    <tr>\n",
       "      <th>18247</th>\n",
       "      <td>-1.802272</td>\n",
       "      <td>1.886361</td>\n",
       "      <td>-0.655094</td>\n",
       "      <td>-0.134521</td>\n",
       "      <td>0.899699</td>\n",
       "      <td>-0.371830</td>\n",
       "      <td>-0.561651</td>\n",
       "    </tr>\n",
       "    <tr>\n",
       "      <th>18248</th>\n",
       "      <td>-1.703061</td>\n",
       "      <td>1.729464</td>\n",
       "      <td>-0.156055</td>\n",
       "      <td>0.213039</td>\n",
       "      <td>1.062622</td>\n",
       "      <td>-0.044838</td>\n",
       "      <td>-0.606210</td>\n",
       "    </tr>\n",
       "  </tbody>\n",
       "</table>\n",
       "<p>18249 rows × 7 columns</p>\n",
       "</div>"
      ],
      "text/plain": [
       "            PC1       PC2       PC3       PC4       PC5       PC6       PC7\n",
       "0     -0.546530 -1.527249 -0.249849  0.201101  0.589754 -0.706975  0.503611\n",
       "1     -0.621791 -1.501711 -0.271435  0.217379  0.542602 -0.812631  0.471668\n",
       "2      0.016602 -1.857196  0.486700  0.629894  0.788918 -0.812386  0.008560\n",
       "3     -0.283589 -1.730909  0.229284  0.475413  0.640097 -0.740117  0.323254\n",
       "4     -0.552081 -1.556702 -0.099042  0.264496  0.458363 -0.835840  0.525685\n",
       "...         ...       ...       ...       ...       ...       ...       ...\n",
       "18244 -2.058523  2.055592  0.467718  0.050707  0.510176  0.394916  0.073177\n",
       "18245 -2.183615  2.057949  0.249108 -0.014333  0.503092  0.253419  0.050778\n",
       "18246 -1.879810  1.845864 -0.572310 -0.012654  0.894139 -0.416399 -0.593439\n",
       "18247 -1.802272  1.886361 -0.655094 -0.134521  0.899699 -0.371830 -0.561651\n",
       "18248 -1.703061  1.729464 -0.156055  0.213039  1.062622 -0.044838 -0.606210\n",
       "\n",
       "[18249 rows x 7 columns]"
      ]
     },
     "execution_count": 82,
     "metadata": {},
     "output_type": "execute_result"
    }
   ],
   "source": [
    "pca = PCA (n_components = 7)\n",
    "new_pcomp_cl = pca.fit_transform(x_cl_scaled)\n",
    "princi_comp_cl = pd.DataFrame(new_pcomp_cl, columns = ['PC1','PC2','PC3','PC4','PC5','PC6','PC7'])\n",
    "princi_comp_cl"
   ]
  },
  {
   "cell_type": "code",
   "execution_count": 83,
   "id": "e016f515",
   "metadata": {},
   "outputs": [
    {
     "data": {
      "text/plain": [
       "PC1    0.165214\n",
       "PC2    0.096240\n",
       "PC3    0.213944\n",
       "PC4   -0.207332\n",
       "PC5    0.541061\n",
       "PC6    0.041287\n",
       "PC7    0.266228\n",
       "dtype: float64"
      ]
     },
     "execution_count": 83,
     "metadata": {},
     "output_type": "execute_result"
    }
   ],
   "source": [
    "princi_comp_cl.skew()"
   ]
  },
  {
   "cell_type": "code",
   "execution_count": 84,
   "id": "017cabd5",
   "metadata": {},
   "outputs": [],
   "source": [
    "x_train_cl,x_test_cl,y_train_cl,y_test_cl = train_test_split(princi_comp_cl,y_cl,test_size=0.25,random_state=42)"
   ]
  },
  {
   "cell_type": "code",
   "execution_count": 86,
   "id": "ac268d99",
   "metadata": {},
   "outputs": [
    {
     "data": {
      "text/plain": [
       "RandomForestClassifier()"
      ]
     },
     "execution_count": 86,
     "metadata": {},
     "output_type": "execute_result"
    }
   ],
   "source": [
    "ranc = RandomForestClassifier()\n",
    "ranc.fit(x_train_cl,y_train_cl)"
   ]
  },
  {
   "cell_type": "code",
   "execution_count": 87,
   "id": "b535501b",
   "metadata": {},
   "outputs": [],
   "source": [
    "def metric_score_cl(clf,x_train_cl,x_test_cl,y_train_cl,y_test_cl,train = True):\n",
    "    if train:\n",
    "        y_pred_cl = clf.predict(x_train_cl)\n",
    "        print('\\n ======TRAINING RESULT======')\n",
    "        print(f'Accuracy Score: {accuracy_score(y_train_cl,y_pred_cl)*100:.2f}%')\n",
    "        \n",
    "    elif train == False:\n",
    "        pred_cl = clf.predict(x_test_cl)\n",
    "        print('\\n ======TESTING RESULT======')\n",
    "        print(f'Accuracy Score: {accuracy_score(y_test_cl,pred_cl)*100:.2f}%')\n",
    "        print('\\n \\n TEST CLASSIFICATION REPORT \\n', classification_report(y_test_cl,pred_cl,digits =2))"
   ]
  },
  {
   "cell_type": "code",
   "execution_count": 88,
   "id": "9ee087a4",
   "metadata": {},
   "outputs": [
    {
     "name": "stdout",
     "output_type": "stream",
     "text": [
      "\n",
      " ======TRAINING RESULT======\n",
      "Accuracy Score: 100.00%\n",
      "\n",
      " ======TESTING RESULT======\n",
      "Accuracy Score: 80.41%\n",
      "\n",
      " \n",
      " TEST CLASSIFICATION REPORT \n",
      "               precision    recall  f1-score   support\n",
      "\n",
      "           0       0.64      0.86      0.73        76\n",
      "           1       0.67      0.72      0.69        85\n",
      "           2       0.88      0.96      0.92        80\n",
      "           3       0.78      0.74      0.76        88\n",
      "           4       0.84      0.83      0.84        83\n",
      "           5       0.89      0.78      0.83        94\n",
      "           6       0.96      0.98      0.97        82\n",
      "           7       0.81      0.84      0.83        94\n",
      "           8       0.88      0.88      0.88        90\n",
      "           9       0.77      0.82      0.79        88\n",
      "          10       0.66      0.65      0.65        79\n",
      "          11       0.85      0.93      0.89        85\n",
      "          12       0.80      0.89      0.84        83\n",
      "          13       0.74      0.68      0.71        81\n",
      "          14       0.88      0.84      0.86        87\n",
      "          15       0.93      0.90      0.92        93\n",
      "          16       0.79      0.75      0.77        92\n",
      "          17       0.87      0.80      0.83        90\n",
      "          18       0.86      0.82      0.84        82\n",
      "          19       0.72      0.84      0.78        76\n",
      "          20       0.81      0.81      0.81        80\n",
      "          21       0.64      0.72      0.68        76\n",
      "          22       0.93      0.92      0.93        89\n",
      "          23       0.74      0.85      0.79        88\n",
      "          24       0.81      0.67      0.73        88\n",
      "          25       0.96      0.94      0.95        83\n",
      "          26       0.73      0.70      0.71        94\n",
      "          27       0.77      0.78      0.78        87\n",
      "          28       0.98      0.94      0.96        86\n",
      "          29       0.90      0.93      0.92        89\n",
      "          30       0.85      0.79      0.81        84\n",
      "          31       0.56      0.57      0.56        86\n",
      "          32       0.72      0.70      0.71        86\n",
      "          33       0.82      0.80      0.81        70\n",
      "          34       0.81      0.89      0.85        75\n",
      "          35       0.90      0.90      0.90        90\n",
      "          36       0.79      0.73      0.76        94\n",
      "          37       0.74      0.79      0.77        78\n",
      "          38       0.85      0.79      0.82        78\n",
      "          39       0.70      0.77      0.74        83\n",
      "          40       0.75      0.85      0.80        87\n",
      "          41       0.74      0.64      0.69        94\n",
      "          42       0.90      0.85      0.87        93\n",
      "          43       0.78      0.74      0.76        78\n",
      "          44       0.78      0.85      0.82        88\n",
      "          45       0.93      0.95      0.94        78\n",
      "          46       0.90      0.94      0.92        78\n",
      "          47       0.74      0.69      0.72        93\n",
      "          48       0.84      0.57      0.68        81\n",
      "          49       0.79      0.70      0.74        82\n",
      "          50       0.43      0.43      0.43        83\n",
      "          51       0.99      1.00      0.99        77\n",
      "          52       0.99      0.97      0.98        80\n",
      "          53       0.74      0.78      0.76        79\n",
      "\n",
      "    accuracy                           0.80      4563\n",
      "   macro avg       0.81      0.81      0.80      4563\n",
      "weighted avg       0.81      0.80      0.80      4563\n",
      "\n"
     ]
    }
   ],
   "source": [
    "metric_score_cl(ranc,x_train_cl,x_test_cl,y_train_cl,y_test_cl,train = True)\n",
    "metric_score_cl(ranc,x_train_cl,x_test_cl,y_train_cl,y_test_cl,train = False)"
   ]
  },
  {
   "cell_type": "code",
   "execution_count": 92,
   "id": "b2710110",
   "metadata": {},
   "outputs": [],
   "source": [
    "pred_cl = ranc.predict(x_test_cl)"
   ]
  },
  {
   "cell_type": "code",
   "execution_count": 93,
   "id": "3f19b08f",
   "metadata": {},
   "outputs": [
    {
     "data": {
      "text/plain": [
       "array([[65,  0,  0, ...,  0,  0,  0],\n",
       "       [ 0, 61,  0, ...,  0,  0,  2],\n",
       "       [ 0,  0, 77, ...,  0,  0,  1],\n",
       "       ...,\n",
       "       [ 0,  0,  0, ..., 77,  0,  0],\n",
       "       [ 0,  0,  0, ...,  0, 78,  0],\n",
       "       [ 0,  1,  2, ...,  0,  0, 62]], dtype=int64)"
      ]
     },
     "execution_count": 93,
     "metadata": {},
     "output_type": "execute_result"
    }
   ],
   "source": [
    "conf_matrix = confusion_matrix(y_test_cl,pred_cl)\n",
    "conf_matrix"
   ]
  },
  {
   "cell_type": "markdown",
   "id": "bb46ee26",
   "metadata": {},
   "source": [
    "We can note that we are getting training accuracy of 100% and Testing accuracy of 80.41% with Random Forest model\n",
    "\n",
    "We should now test the data on other models as well to check which model is giving us the best result"
   ]
  },
  {
   "cell_type": "code",
   "execution_count": 94,
   "id": "c9458f2b",
   "metadata": {},
   "outputs": [],
   "source": [
    "from sklearn.svm import SVC"
   ]
  },
  {
   "cell_type": "code",
   "execution_count": 95,
   "id": "99044c02",
   "metadata": {},
   "outputs": [],
   "source": [
    "knn = KNeighborsClassifier()\n",
    "dec = DecisionTreeClassifier()\n",
    "svc = SVC()\n",
    "xgb = XGBClassifier()"
   ]
  },
  {
   "cell_type": "code",
   "execution_count": 96,
   "id": "6c59c972",
   "metadata": {},
   "outputs": [
    {
     "data": {
      "text/plain": [
       "XGBClassifier(base_score=0.5, booster='gbtree', callbacks=None,\n",
       "              colsample_bylevel=1, colsample_bynode=1, colsample_bytree=1,\n",
       "              early_stopping_rounds=None, enable_categorical=False,\n",
       "              eval_metric=None, feature_types=None, gamma=0, gpu_id=-1,\n",
       "              grow_policy='depthwise', importance_type=None,\n",
       "              interaction_constraints='', learning_rate=0.300000012,\n",
       "              max_bin=256, max_cat_threshold=64, max_cat_to_onehot=4,\n",
       "              max_delta_step=0, max_depth=6, max_leaves=0, min_child_weight=1,\n",
       "              missing=nan, monotone_constraints='()', n_estimators=100,\n",
       "              n_jobs=0, num_parallel_tree=1, objective='multi:softprob',\n",
       "              predictor='auto', ...)"
      ]
     },
     "execution_count": 96,
     "metadata": {},
     "output_type": "execute_result"
    }
   ],
   "source": [
    "#TRAINING THE MODELS\n",
    "knn.fit(x_train_cl,y_train_cl)\n",
    "dec.fit(x_train_cl,y_train_cl)\n",
    "svc.fit(x_train_cl,y_train_cl)\n",
    "xgb.fit(x_train_cl,y_train_cl)"
   ]
  },
  {
   "cell_type": "markdown",
   "id": "eed1c263",
   "metadata": {},
   "source": [
    "Check Testing Accuracies for other models:"
   ]
  },
  {
   "cell_type": "code",
   "execution_count": 97,
   "id": "d4ccb9a8",
   "metadata": {},
   "outputs": [
    {
     "name": "stdout",
     "output_type": "stream",
     "text": [
      "0.6655708963401271\n",
      "0.7646285338593031\n",
      "0.6506684198991891\n",
      "0.8040762656147271\n",
      "0.7670392285776901\n"
     ]
    }
   ],
   "source": [
    "print(svc.score(x_test_cl,y_test_cl))\n",
    "print(knn.score(x_test_cl,y_test_cl))\n",
    "print(dec.score(x_test_cl,y_test_cl))\n",
    "print(ranc.score(x_test_cl,y_test_cl))\n",
    "print(xgb.score(x_test_cl,y_test_cl))"
   ]
  },
  {
   "cell_type": "markdown",
   "id": "27e99816",
   "metadata": {},
   "source": [
    "We can note, Random Forest is again our best performing model\n",
    "\n",
    "Now, we perform Hyper Parameter Tuning on our best performing model, i.e., Random Forest Model"
   ]
  },
  {
   "cell_type": "code",
   "execution_count": 98,
   "id": "06d069dd",
   "metadata": {},
   "outputs": [],
   "source": [
    "params = {'n_estimators':[2,50],\n",
    "         'max_depth':[2,20],\n",
    "         'min_samples_split':[2,20],\n",
    "         'min_samples_leaf':[2,20]}"
   ]
  },
  {
   "cell_type": "code",
   "execution_count": 99,
   "id": "43d18ad1",
   "metadata": {},
   "outputs": [
    {
     "data": {
      "text/plain": [
       "GridSearchCV(estimator=RandomForestClassifier(),\n",
       "             param_grid={'max_depth': [2, 20], 'min_samples_leaf': [2, 20],\n",
       "                         'min_samples_split': [2, 20],\n",
       "                         'n_estimators': [2, 50]})"
      ]
     },
     "execution_count": 99,
     "metadata": {},
     "output_type": "execute_result"
    }
   ],
   "source": [
    "grid_cl = GridSearchCV(ranc, param_grid = params)\n",
    "grid_cl.fit(x_train_cl,y_train_cl)"
   ]
  },
  {
   "cell_type": "code",
   "execution_count": 100,
   "id": "5a72e0d0",
   "metadata": {},
   "outputs": [
    {
     "name": "stdout",
     "output_type": "stream",
     "text": [
      "best parameters:  {'max_depth': 20, 'min_samples_leaf': 2, 'min_samples_split': 2, 'n_estimators': 50}\n"
     ]
    }
   ],
   "source": [
    "print('best parameters: ',grid_cl.best_params_)"
   ]
  },
  {
   "cell_type": "code",
   "execution_count": 101,
   "id": "c7abe825",
   "metadata": {},
   "outputs": [
    {
     "data": {
      "text/plain": [
       "RandomForestClassifier(max_depth=20, min_samples_leaf=2, n_estimators=50)"
      ]
     },
     "execution_count": 101,
     "metadata": {},
     "output_type": "execute_result"
    }
   ],
   "source": [
    "ranc_grid = grid_cl.best_estimator_\n",
    "ranc_grid.fit(x_train_cl,y_train_cl)"
   ]
  },
  {
   "cell_type": "code",
   "execution_count": 102,
   "id": "fd087662",
   "metadata": {},
   "outputs": [
    {
     "name": "stdout",
     "output_type": "stream",
     "text": [
      "\n",
      " ======TRAINING RESULT======\n",
      "Accuracy Score: 99.06%\n",
      "\n",
      " ======TESTING RESULT======\n",
      "Accuracy Score: 77.76%\n",
      "\n",
      " \n",
      " TEST CLASSIFICATION REPORT \n",
      "               precision    recall  f1-score   support\n",
      "\n",
      "           0       0.68      0.83      0.75        76\n",
      "           1       0.61      0.67      0.64        85\n",
      "           2       0.82      0.93      0.87        80\n",
      "           3       0.75      0.72      0.73        88\n",
      "           4       0.80      0.84      0.82        83\n",
      "           5       0.81      0.70      0.75        94\n",
      "           6       0.96      0.96      0.96        82\n",
      "           7       0.83      0.85      0.84        94\n",
      "           8       0.83      0.84      0.84        90\n",
      "           9       0.73      0.77      0.75        88\n",
      "          10       0.62      0.63      0.63        79\n",
      "          11       0.74      0.85      0.79        85\n",
      "          12       0.80      0.87      0.83        83\n",
      "          13       0.70      0.65      0.68        81\n",
      "          14       0.85      0.78      0.81        87\n",
      "          15       0.93      0.88      0.91        93\n",
      "          16       0.79      0.72      0.75        92\n",
      "          17       0.84      0.77      0.80        90\n",
      "          18       0.86      0.77      0.81        82\n",
      "          19       0.67      0.86      0.75        76\n",
      "          20       0.76      0.76      0.76        80\n",
      "          21       0.60      0.75      0.67        76\n",
      "          22       0.92      0.91      0.92        89\n",
      "          23       0.74      0.83      0.78        88\n",
      "          24       0.78      0.61      0.69        88\n",
      "          25       0.96      0.95      0.96        83\n",
      "          26       0.68      0.55      0.61        94\n",
      "          27       0.77      0.75      0.76        87\n",
      "          28       0.93      0.92      0.92        86\n",
      "          29       0.81      0.93      0.87        89\n",
      "          30       0.88      0.77      0.82        84\n",
      "          31       0.60      0.57      0.59        86\n",
      "          32       0.76      0.71      0.73        86\n",
      "          33       0.78      0.76      0.77        70\n",
      "          34       0.77      0.91      0.83        75\n",
      "          35       0.89      0.90      0.90        90\n",
      "          36       0.75      0.64      0.69        94\n",
      "          37       0.75      0.82      0.79        78\n",
      "          38       0.83      0.79      0.81        78\n",
      "          39       0.64      0.78      0.70        83\n",
      "          40       0.71      0.77      0.74        87\n",
      "          41       0.71      0.56      0.63        94\n",
      "          42       0.90      0.81      0.85        93\n",
      "          43       0.75      0.72      0.73        78\n",
      "          44       0.73      0.83      0.78        88\n",
      "          45       0.94      0.95      0.94        78\n",
      "          46       0.90      0.92      0.91        78\n",
      "          47       0.68      0.65      0.66        93\n",
      "          48       0.67      0.52      0.58        81\n",
      "          49       0.76      0.73      0.75        82\n",
      "          50       0.44      0.43      0.44        83\n",
      "          51       0.99      1.00      0.99        77\n",
      "          52       0.99      0.94      0.96        80\n",
      "          53       0.69      0.76      0.72        79\n",
      "\n",
      "    accuracy                           0.78      4563\n",
      "   macro avg       0.78      0.78      0.78      4563\n",
      "weighted avg       0.78      0.78      0.78      4563\n",
      "\n"
     ]
    }
   ],
   "source": [
    "metric_score_cl(ranc_grid,x_train_cl,x_test_cl,y_train_cl,y_test_cl,train = True)\n",
    "metric_score_cl(ranc_grid,x_train_cl,x_test_cl,y_train_cl,y_test_cl,train = False)"
   ]
  },
  {
   "cell_type": "code",
   "execution_count": 103,
   "id": "42f059b6",
   "metadata": {},
   "outputs": [
    {
     "name": "stdout",
     "output_type": "stream",
     "text": [
      "\n",
      " ======TRAINING RESULT======\n",
      "Accuracy Score: 100.00%\n",
      "\n",
      " ======TESTING RESULT======\n",
      "Accuracy Score: 80.41%\n",
      "\n",
      " \n",
      " TEST CLASSIFICATION REPORT \n",
      "               precision    recall  f1-score   support\n",
      "\n",
      "           0       0.64      0.86      0.73        76\n",
      "           1       0.67      0.72      0.69        85\n",
      "           2       0.88      0.96      0.92        80\n",
      "           3       0.78      0.74      0.76        88\n",
      "           4       0.84      0.83      0.84        83\n",
      "           5       0.89      0.78      0.83        94\n",
      "           6       0.96      0.98      0.97        82\n",
      "           7       0.81      0.84      0.83        94\n",
      "           8       0.88      0.88      0.88        90\n",
      "           9       0.77      0.82      0.79        88\n",
      "          10       0.66      0.65      0.65        79\n",
      "          11       0.85      0.93      0.89        85\n",
      "          12       0.80      0.89      0.84        83\n",
      "          13       0.74      0.68      0.71        81\n",
      "          14       0.88      0.84      0.86        87\n",
      "          15       0.93      0.90      0.92        93\n",
      "          16       0.79      0.75      0.77        92\n",
      "          17       0.87      0.80      0.83        90\n",
      "          18       0.86      0.82      0.84        82\n",
      "          19       0.72      0.84      0.78        76\n",
      "          20       0.81      0.81      0.81        80\n",
      "          21       0.64      0.72      0.68        76\n",
      "          22       0.93      0.92      0.93        89\n",
      "          23       0.74      0.85      0.79        88\n",
      "          24       0.81      0.67      0.73        88\n",
      "          25       0.96      0.94      0.95        83\n",
      "          26       0.73      0.70      0.71        94\n",
      "          27       0.77      0.78      0.78        87\n",
      "          28       0.98      0.94      0.96        86\n",
      "          29       0.90      0.93      0.92        89\n",
      "          30       0.85      0.79      0.81        84\n",
      "          31       0.56      0.57      0.56        86\n",
      "          32       0.72      0.70      0.71        86\n",
      "          33       0.82      0.80      0.81        70\n",
      "          34       0.81      0.89      0.85        75\n",
      "          35       0.90      0.90      0.90        90\n",
      "          36       0.79      0.73      0.76        94\n",
      "          37       0.74      0.79      0.77        78\n",
      "          38       0.85      0.79      0.82        78\n",
      "          39       0.70      0.77      0.74        83\n",
      "          40       0.75      0.85      0.80        87\n",
      "          41       0.74      0.64      0.69        94\n",
      "          42       0.90      0.85      0.87        93\n",
      "          43       0.78      0.74      0.76        78\n",
      "          44       0.78      0.85      0.82        88\n",
      "          45       0.93      0.95      0.94        78\n",
      "          46       0.90      0.94      0.92        78\n",
      "          47       0.74      0.69      0.72        93\n",
      "          48       0.84      0.57      0.68        81\n",
      "          49       0.79      0.70      0.74        82\n",
      "          50       0.43      0.43      0.43        83\n",
      "          51       0.99      1.00      0.99        77\n",
      "          52       0.99      0.97      0.98        80\n",
      "          53       0.74      0.78      0.76        79\n",
      "\n",
      "    accuracy                           0.80      4563\n",
      "   macro avg       0.81      0.81      0.80      4563\n",
      "weighted avg       0.81      0.80      0.80      4563\n",
      "\n"
     ]
    }
   ],
   "source": [
    "metric_score_cl(ranc,x_train_cl,x_test_cl,y_train_cl,y_test_cl,train = True)\n",
    "metric_score_cl(ranc,x_train_cl,x_test_cl,y_train_cl,y_test_cl,train = False)"
   ]
  },
  {
   "cell_type": "markdown",
   "id": "c423eb5c",
   "metadata": {},
   "source": [
    "Again, we get higher accuracy without hyperparameter tuning, thus we go ahead with our original Random Forest Classifier Model for predictions."
   ]
  },
  {
   "cell_type": "code",
   "execution_count": null,
   "id": "bc9bf7db",
   "metadata": {},
   "outputs": [],
   "source": []
  }
 ],
 "metadata": {
  "kernelspec": {
   "display_name": "Python 3 (ipykernel)",
   "language": "python",
   "name": "python3"
  },
  "language_info": {
   "codemirror_mode": {
    "name": "ipython",
    "version": 3
   },
   "file_extension": ".py",
   "mimetype": "text/x-python",
   "name": "python",
   "nbconvert_exporter": "python",
   "pygments_lexer": "ipython3",
   "version": "3.9.12"
  }
 },
 "nbformat": 4,
 "nbformat_minor": 5
}
