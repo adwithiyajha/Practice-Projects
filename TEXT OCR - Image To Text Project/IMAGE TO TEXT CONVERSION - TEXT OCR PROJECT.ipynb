{
 "cells": [
  {
   "cell_type": "markdown",
   "id": "87d444df",
   "metadata": {},
   "source": [
    "IMAGE TO TEXT CONVERSION // TEXT OCR"
   ]
  },
  {
   "cell_type": "code",
   "execution_count": 1,
   "id": "493243a2",
   "metadata": {},
   "outputs": [
    {
     "name": "stdout",
     "output_type": "stream",
     "text": [
      "Requirement already satisfied: pillow in c:\\users\\adwit\\anaconda3\\lib\\site-packages (9.0.1)\n",
      "Requirement already satisfied: pytesseract in c:\\users\\adwit\\anaconda3\\lib\\site-packages (0.3.10)\n",
      "Requirement already satisfied: Pillow>=8.0.0 in c:\\users\\adwit\\anaconda3\\lib\\site-packages (from pytesseract) (9.0.1)\n",
      "Requirement already satisfied: packaging>=21.3 in c:\\users\\adwit\\anaconda3\\lib\\site-packages (from pytesseract) (21.3)\n",
      "Requirement already satisfied: pyparsing!=3.0.5,>=2.0.2 in c:\\users\\adwit\\anaconda3\\lib\\site-packages (from packaging>=21.3->pytesseract) (3.0.4)\n"
     ]
    }
   ],
   "source": [
    "!pip install pillow\n",
    "!pip install pytesseract"
   ]
  },
  {
   "cell_type": "code",
   "execution_count": 2,
   "id": "e1539f96",
   "metadata": {},
   "outputs": [],
   "source": [
    "from PIL import Image\n",
    "import pytesseract"
   ]
  },
  {
   "cell_type": "code",
   "execution_count": 3,
   "id": "42a15925",
   "metadata": {},
   "outputs": [],
   "source": [
    "pytesseract.pytesseract.tesseract_cmd = r\"C:\\\\Program Files\\\\Tesseract-OCR\\\\tesseract.exe\""
   ]
  },
  {
   "cell_type": "code",
   "execution_count": 4,
   "id": "19505811",
   "metadata": {},
   "outputs": [
    {
     "name": "stdout",
     "output_type": "stream",
     "text": [
      "6 RIS TIA RHE\n",
      "KONALDO\n",
      "\n"
     ]
    }
   ],
   "source": [
    "def process_image(image_name, lang_code):\n",
    "    return pytesseract.image_to_string(Image.open(image_name), lang=lang_code)\n",
    "\n",
    "def print_data(data):\n",
    "    print(data)\n",
    "    \n",
    "def output_file(filename,data):\n",
    "    file = open(filename,\"wt\")\n",
    "    file.write(data)\n",
    "    file.close()\n",
    "    \n",
    "def main():\n",
    "    data_eng = process_image('cristiano.png','eng')\n",
    "    print_data(data_eng)\n",
    "    output_file('cristiano.txt',data_eng)\n",
    "if __name__ == '__main__':\n",
    "    main()"
   ]
  },
  {
   "cell_type": "markdown",
   "id": "a77001d1",
   "metadata": {},
   "source": [
    "Since, image is originally handwriiten in cursive, output isn't accurate but we can see it is somewhat working"
   ]
  },
  {
   "cell_type": "code",
   "execution_count": null,
   "id": "f52f0e18",
   "metadata": {},
   "outputs": [],
   "source": []
  }
 ],
 "metadata": {
  "kernelspec": {
   "display_name": "Python 3 (ipykernel)",
   "language": "python",
   "name": "python3"
  },
  "language_info": {
   "codemirror_mode": {
    "name": "ipython",
    "version": 3
   },
   "file_extension": ".py",
   "mimetype": "text/x-python",
   "name": "python",
   "nbconvert_exporter": "python",
   "pygments_lexer": "ipython3",
   "version": "3.9.12"
  }
 },
 "nbformat": 4,
 "nbformat_minor": 5
}
