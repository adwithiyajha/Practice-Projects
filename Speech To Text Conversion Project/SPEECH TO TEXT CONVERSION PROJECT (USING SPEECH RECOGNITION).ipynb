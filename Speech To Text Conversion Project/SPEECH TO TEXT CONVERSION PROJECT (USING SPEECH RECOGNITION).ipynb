{
 "cells": [
  {
   "cell_type": "markdown",
   "id": "c5a468ee",
   "metadata": {},
   "source": [
    "SPEECH TO TEXT CONVERSION PROJECT (USING SPEECH RECOGNITION)"
   ]
  },
  {
   "cell_type": "code",
   "execution_count": 1,
   "id": "390ad430",
   "metadata": {},
   "outputs": [
    {
     "name": "stdout",
     "output_type": "stream",
     "text": [
      "Collecting SpeechRecognition\n",
      "  Downloading SpeechRecognition-3.10.0-py2.py3-none-any.whl (32.8 MB)\n",
      "Collecting pydub\n",
      "  Downloading pydub-0.25.1-py2.py3-none-any.whl (32 kB)\n",
      "Requirement already satisfied: requests>=2.26.0 in c:\\users\\adwit\\anaconda3\\lib\\site-packages (from SpeechRecognition) (2.27.1)\n",
      "Requirement already satisfied: certifi>=2017.4.17 in c:\\users\\adwit\\anaconda3\\lib\\site-packages (from requests>=2.26.0->SpeechRecognition) (2022.12.7)\n",
      "Requirement already satisfied: charset-normalizer~=2.0.0 in c:\\users\\adwit\\anaconda3\\lib\\site-packages (from requests>=2.26.0->SpeechRecognition) (2.0.4)\n",
      "Requirement already satisfied: idna<4,>=2.5 in c:\\users\\adwit\\anaconda3\\lib\\site-packages (from requests>=2.26.0->SpeechRecognition) (3.3)\n",
      "Requirement already satisfied: urllib3<1.27,>=1.21.1 in c:\\users\\adwit\\anaconda3\\lib\\site-packages (from requests>=2.26.0->SpeechRecognition) (1.26.9)\n",
      "Installing collected packages: SpeechRecognition, pydub\n",
      "Successfully installed SpeechRecognition-3.10.0 pydub-0.25.1\n"
     ]
    }
   ],
   "source": [
    "!pip install SpeechRecognition pydub"
   ]
  },
  {
   "cell_type": "code",
   "execution_count": 2,
   "id": "1dd2cc2d",
   "metadata": {},
   "outputs": [],
   "source": [
    "import speech_recognition as sr"
   ]
  },
  {
   "cell_type": "code",
   "execution_count": 3,
   "id": "9fb4b0eb",
   "metadata": {},
   "outputs": [],
   "source": [
    "filename = \"Perfect.wav\""
   ]
  },
  {
   "cell_type": "code",
   "execution_count": 4,
   "id": "3b057059",
   "metadata": {},
   "outputs": [],
   "source": [
    "r = sr.Recognizer()"
   ]
  },
  {
   "cell_type": "code",
   "execution_count": 14,
   "id": "cf6c7f18",
   "metadata": {},
   "outputs": [],
   "source": [
    "import os\n",
    "from pydub import AudioSegment\n",
    "from pydub.silence import split_on_silence\n",
    "def get_large_audio_transcription(path):\n",
    "    sound = AudioSegment.from_wav(path)\n",
    "    chunks = split_on_silence(sound,\n",
    "                             min_silence_len = 500,\n",
    "                             silence_thresh = sound.dBFS-14,\n",
    "                             keep_silence = 500,\n",
    "                             )\n",
    "    folder_name = \"audio-chunks\"\n",
    "    if not os.path.isdir (folder_name):\n",
    "        os.mkdir(folder_name)\n",
    "    whole_text = \"\"\n",
    "    \n",
    "    for i, audio_chunk in enumerate(chunks,start=1):\n",
    "        chunk_filename = os.path.join(folder_name,f\"chunk{i}.wav\")\n",
    "        audio_chunk.export(chunk_filename, format = \"wav\")\n",
    "        with sr.AudioFile(chunk_filename) as source:\n",
    "            audio_listened = r.record(source)\n",
    "            try:\n",
    "                text = r.recognize_google(audio_listened)\n",
    "            except sr.UnknownValueError as e:\n",
    "                print(\"Error:\" ,str(e))\n",
    "            else:\n",
    "                text = f\"{text.capitalize()}. \"\n",
    "                print(chunk_filename, \":\", text)\n",
    "                whole_text += text\n",
    "                \n",
    "    return whole_text\n",
    "                \n",
    "        \n",
    "    \n",
    "\n"
   ]
  },
  {
   "cell_type": "code",
   "execution_count": 15,
   "id": "148bc28c",
   "metadata": {},
   "outputs": [
    {
     "name": "stdout",
     "output_type": "stream",
     "text": [
      "audio-chunks\\chunk1.wav : Sockets in the world go green. \n",
      "audio-chunks\\chunk2.wav : The crowd into the dense grass. \n",
      "audio-chunks\\chunk3.wav : Pride se over honest man work. \n",
      "audio-chunks\\chunk4.wav : Shape of the spot else the flame will spread. \n",
      "audio-chunks\\chunk5.wav : The secret of the sword with scarf with sign designs. \n",
      "audio-chunks\\chunk6.wav : Ek round hole was drilled through the same board. \n",
      "audio-chunks\\chunk7.wav : Footprints sheds a heated up the beach. \n",
      "audio-chunks\\chunk8.wav : She was waiting at my front one. \n",
      "audio-chunks\\chunk9.wav : Isn't nearly as brought in fresh air. \n",
      "audio-chunks\\chunk10.wav : Swaraj real mule. \n",
      "audio-chunks\\chunk11.wav : Use crooked stick. \n",
      "\n",
      " Full Text:  Sockets in the world go green. The crowd into the dense grass. Pride se over honest man work. Shape of the spot else the flame will spread. The secret of the sword with scarf with sign designs. Ek round hole was drilled through the same board. Footprints sheds a heated up the beach. She was waiting at my front one. Isn't nearly as brought in fresh air. Swaraj real mule. Use crooked stick. \n"
     ]
    }
   ],
   "source": [
    "path = \"harvard_speech.wav\"\n",
    "print(\"\\n Full Text: \",get_large_audio_transcription(path))"
   ]
  },
  {
   "cell_type": "code",
   "execution_count": null,
   "id": "0da43a5a",
   "metadata": {},
   "outputs": [],
   "source": []
  }
 ],
 "metadata": {
  "kernelspec": {
   "display_name": "Python 3 (ipykernel)",
   "language": "python",
   "name": "python3"
  },
  "language_info": {
   "codemirror_mode": {
    "name": "ipython",
    "version": 3
   },
   "file_extension": ".py",
   "mimetype": "text/x-python",
   "name": "python",
   "nbconvert_exporter": "python",
   "pygments_lexer": "ipython3",
   "version": "3.9.12"
  }
 },
 "nbformat": 4,
 "nbformat_minor": 5
}
