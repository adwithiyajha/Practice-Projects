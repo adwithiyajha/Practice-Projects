{
 "cells": [
  {
   "cell_type": "markdown",
   "id": "44f3c3cb",
   "metadata": {},
   "source": [
    "TEXT TO SPEECH PROJECT"
   ]
  },
  {
   "cell_type": "code",
   "execution_count": 1,
   "id": "48ae67ed",
   "metadata": {},
   "outputs": [
    {
     "name": "stdout",
     "output_type": "stream",
     "text": [
      "Collecting gTTs\n",
      "  Downloading gTTS-2.3.2-py3-none-any.whl (28 kB)\n",
      "Requirement already satisfied: click<8.2,>=7.1 in c:\\users\\adwit\\anaconda3\\lib\\site-packages (from gTTs) (8.0.4)\n",
      "Requirement already satisfied: requests<3,>=2.27 in c:\\users\\adwit\\anaconda3\\lib\\site-packages (from gTTs) (2.27.1)\n",
      "Requirement already satisfied: colorama in c:\\users\\adwit\\anaconda3\\lib\\site-packages (from click<8.2,>=7.1->gTTs) (0.4.4)\n",
      "Requirement already satisfied: certifi>=2017.4.17 in c:\\users\\adwit\\anaconda3\\lib\\site-packages (from requests<3,>=2.27->gTTs) (2022.12.7)\n",
      "Requirement already satisfied: charset-normalizer~=2.0.0 in c:\\users\\adwit\\anaconda3\\lib\\site-packages (from requests<3,>=2.27->gTTs) (2.0.4)\n",
      "Requirement already satisfied: idna<4,>=2.5 in c:\\users\\adwit\\anaconda3\\lib\\site-packages (from requests<3,>=2.27->gTTs) (3.3)\n",
      "Requirement already satisfied: urllib3<1.27,>=1.21.1 in c:\\users\\adwit\\anaconda3\\lib\\site-packages (from requests<3,>=2.27->gTTs) (1.26.9)\n",
      "Installing collected packages: gTTs\n",
      "Successfully installed gTTs-2.3.2\n"
     ]
    }
   ],
   "source": [
    "!pip install gTTs"
   ]
  },
  {
   "cell_type": "code",
   "execution_count": 4,
   "id": "cb3c0420",
   "metadata": {},
   "outputs": [],
   "source": [
    "from gtts import gTTS\n",
    "import os"
   ]
  },
  {
   "cell_type": "code",
   "execution_count": 8,
   "id": "0ebbd2ba",
   "metadata": {},
   "outputs": [],
   "source": [
    "mytext = 'Ronaldo is the greatest of all time'\n",
    "language = 'en'\n",
    "myobj = gTTS(text = mytext, lang = language, slow = False)\n",
    "myobj.save(\"C:\\\\Users\\\\adwit\\\\Downloads\\\\ronaldo_goat.mp3\")"
   ]
  }
 ],
 "metadata": {
  "kernelspec": {
   "display_name": "Python 3 (ipykernel)",
   "language": "python",
   "name": "python3"
  },
  "language_info": {
   "codemirror_mode": {
    "name": "ipython",
    "version": 3
   },
   "file_extension": ".py",
   "mimetype": "text/x-python",
   "name": "python",
   "nbconvert_exporter": "python",
   "pygments_lexer": "ipython3",
   "version": "3.9.12"
  }
 },
 "nbformat": 4,
 "nbformat_minor": 5
}
